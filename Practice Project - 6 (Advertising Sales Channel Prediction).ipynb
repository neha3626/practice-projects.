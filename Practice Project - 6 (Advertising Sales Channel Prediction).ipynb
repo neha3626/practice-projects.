{
 "cells": [
  {
   "cell_type": "code",
   "execution_count": 217,
   "id": "823a7d45",
   "metadata": {},
   "outputs": [],
   "source": [
    "import numpy as np\n",
    "import seaborn as sns\n",
    "import matplotlib.pyplot as plt\n",
    "import pandas as pd\n",
    "import sklearn\n",
    "from sklearn.linear_model import LinearRegression\n",
    "from sklearn.model_selection import train_test_split\n",
    "from sklearn.preprocessing import MinMaxScaler\n",
    "\n",
    "mms=MinMaxScaler()\n",
    "\n",
    "from sklearn.metrics import mean_squared_error,mean_absolute_error"
   ]
  },
  {
   "cell_type": "code",
   "execution_count": 218,
   "id": "f804bc8f",
   "metadata": {},
   "outputs": [],
   "source": [
    "df=pd.read_csv('https://raw.githubusercontent.com/dsrscientist/DSData/master/Advertising.csv')"
   ]
  },
  {
   "cell_type": "code",
   "execution_count": 219,
   "id": "e1a9de6e",
   "metadata": {},
   "outputs": [
    {
     "data": {
      "text/html": [
       "<div>\n",
       "<style scoped>\n",
       "    .dataframe tbody tr th:only-of-type {\n",
       "        vertical-align: middle;\n",
       "    }\n",
       "\n",
       "    .dataframe tbody tr th {\n",
       "        vertical-align: top;\n",
       "    }\n",
       "\n",
       "    .dataframe thead th {\n",
       "        text-align: right;\n",
       "    }\n",
       "</style>\n",
       "<table border=\"1\" class=\"dataframe\">\n",
       "  <thead>\n",
       "    <tr style=\"text-align: right;\">\n",
       "      <th></th>\n",
       "      <th>Unnamed: 0</th>\n",
       "      <th>TV</th>\n",
       "      <th>radio</th>\n",
       "      <th>newspaper</th>\n",
       "      <th>sales</th>\n",
       "    </tr>\n",
       "  </thead>\n",
       "  <tbody>\n",
       "    <tr>\n",
       "      <th>0</th>\n",
       "      <td>1</td>\n",
       "      <td>230.1</td>\n",
       "      <td>37.8</td>\n",
       "      <td>69.2</td>\n",
       "      <td>22.1</td>\n",
       "    </tr>\n",
       "    <tr>\n",
       "      <th>1</th>\n",
       "      <td>2</td>\n",
       "      <td>44.5</td>\n",
       "      <td>39.3</td>\n",
       "      <td>45.1</td>\n",
       "      <td>10.4</td>\n",
       "    </tr>\n",
       "    <tr>\n",
       "      <th>2</th>\n",
       "      <td>3</td>\n",
       "      <td>17.2</td>\n",
       "      <td>45.9</td>\n",
       "      <td>69.3</td>\n",
       "      <td>9.3</td>\n",
       "    </tr>\n",
       "    <tr>\n",
       "      <th>3</th>\n",
       "      <td>4</td>\n",
       "      <td>151.5</td>\n",
       "      <td>41.3</td>\n",
       "      <td>58.5</td>\n",
       "      <td>18.5</td>\n",
       "    </tr>\n",
       "    <tr>\n",
       "      <th>4</th>\n",
       "      <td>5</td>\n",
       "      <td>180.8</td>\n",
       "      <td>10.8</td>\n",
       "      <td>58.4</td>\n",
       "      <td>12.9</td>\n",
       "    </tr>\n",
       "    <tr>\n",
       "      <th>...</th>\n",
       "      <td>...</td>\n",
       "      <td>...</td>\n",
       "      <td>...</td>\n",
       "      <td>...</td>\n",
       "      <td>...</td>\n",
       "    </tr>\n",
       "    <tr>\n",
       "      <th>195</th>\n",
       "      <td>196</td>\n",
       "      <td>38.2</td>\n",
       "      <td>3.7</td>\n",
       "      <td>13.8</td>\n",
       "      <td>7.6</td>\n",
       "    </tr>\n",
       "    <tr>\n",
       "      <th>196</th>\n",
       "      <td>197</td>\n",
       "      <td>94.2</td>\n",
       "      <td>4.9</td>\n",
       "      <td>8.1</td>\n",
       "      <td>9.7</td>\n",
       "    </tr>\n",
       "    <tr>\n",
       "      <th>197</th>\n",
       "      <td>198</td>\n",
       "      <td>177.0</td>\n",
       "      <td>9.3</td>\n",
       "      <td>6.4</td>\n",
       "      <td>12.8</td>\n",
       "    </tr>\n",
       "    <tr>\n",
       "      <th>198</th>\n",
       "      <td>199</td>\n",
       "      <td>283.6</td>\n",
       "      <td>42.0</td>\n",
       "      <td>66.2</td>\n",
       "      <td>25.5</td>\n",
       "    </tr>\n",
       "    <tr>\n",
       "      <th>199</th>\n",
       "      <td>200</td>\n",
       "      <td>232.1</td>\n",
       "      <td>8.6</td>\n",
       "      <td>8.7</td>\n",
       "      <td>13.4</td>\n",
       "    </tr>\n",
       "  </tbody>\n",
       "</table>\n",
       "<p>200 rows × 5 columns</p>\n",
       "</div>"
      ],
      "text/plain": [
       "     Unnamed: 0     TV  radio  newspaper  sales\n",
       "0             1  230.1   37.8       69.2   22.1\n",
       "1             2   44.5   39.3       45.1   10.4\n",
       "2             3   17.2   45.9       69.3    9.3\n",
       "3             4  151.5   41.3       58.5   18.5\n",
       "4             5  180.8   10.8       58.4   12.9\n",
       "..          ...    ...    ...        ...    ...\n",
       "195         196   38.2    3.7       13.8    7.6\n",
       "196         197   94.2    4.9        8.1    9.7\n",
       "197         198  177.0    9.3        6.4   12.8\n",
       "198         199  283.6   42.0       66.2   25.5\n",
       "199         200  232.1    8.6        8.7   13.4\n",
       "\n",
       "[200 rows x 5 columns]"
      ]
     },
     "execution_count": 219,
     "metadata": {},
     "output_type": "execute_result"
    }
   ],
   "source": [
    "df"
   ]
  },
  {
   "cell_type": "markdown",
   "id": "4aa7efc8",
   "metadata": {},
   "source": [
    "# Exploratory Data Analysis (EDA)"
   ]
  },
  {
   "cell_type": "code",
   "execution_count": 220,
   "id": "2193097d",
   "metadata": {},
   "outputs": [],
   "source": [
    "# this column is not much important for the prediction\n",
    "\n",
    "del df['Unnamed: 0']"
   ]
  },
  {
   "cell_type": "code",
   "execution_count": 221,
   "id": "30d1d6b0",
   "metadata": {},
   "outputs": [
    {
     "data": {
      "text/html": [
       "<div>\n",
       "<style scoped>\n",
       "    .dataframe tbody tr th:only-of-type {\n",
       "        vertical-align: middle;\n",
       "    }\n",
       "\n",
       "    .dataframe tbody tr th {\n",
       "        vertical-align: top;\n",
       "    }\n",
       "\n",
       "    .dataframe thead th {\n",
       "        text-align: right;\n",
       "    }\n",
       "</style>\n",
       "<table border=\"1\" class=\"dataframe\">\n",
       "  <thead>\n",
       "    <tr style=\"text-align: right;\">\n",
       "      <th></th>\n",
       "      <th>TV</th>\n",
       "      <th>radio</th>\n",
       "      <th>newspaper</th>\n",
       "      <th>sales</th>\n",
       "    </tr>\n",
       "  </thead>\n",
       "  <tbody>\n",
       "    <tr>\n",
       "      <th>0</th>\n",
       "      <td>230.1</td>\n",
       "      <td>37.8</td>\n",
       "      <td>69.2</td>\n",
       "      <td>22.1</td>\n",
       "    </tr>\n",
       "    <tr>\n",
       "      <th>1</th>\n",
       "      <td>44.5</td>\n",
       "      <td>39.3</td>\n",
       "      <td>45.1</td>\n",
       "      <td>10.4</td>\n",
       "    </tr>\n",
       "    <tr>\n",
       "      <th>2</th>\n",
       "      <td>17.2</td>\n",
       "      <td>45.9</td>\n",
       "      <td>69.3</td>\n",
       "      <td>9.3</td>\n",
       "    </tr>\n",
       "    <tr>\n",
       "      <th>3</th>\n",
       "      <td>151.5</td>\n",
       "      <td>41.3</td>\n",
       "      <td>58.5</td>\n",
       "      <td>18.5</td>\n",
       "    </tr>\n",
       "    <tr>\n",
       "      <th>4</th>\n",
       "      <td>180.8</td>\n",
       "      <td>10.8</td>\n",
       "      <td>58.4</td>\n",
       "      <td>12.9</td>\n",
       "    </tr>\n",
       "    <tr>\n",
       "      <th>...</th>\n",
       "      <td>...</td>\n",
       "      <td>...</td>\n",
       "      <td>...</td>\n",
       "      <td>...</td>\n",
       "    </tr>\n",
       "    <tr>\n",
       "      <th>195</th>\n",
       "      <td>38.2</td>\n",
       "      <td>3.7</td>\n",
       "      <td>13.8</td>\n",
       "      <td>7.6</td>\n",
       "    </tr>\n",
       "    <tr>\n",
       "      <th>196</th>\n",
       "      <td>94.2</td>\n",
       "      <td>4.9</td>\n",
       "      <td>8.1</td>\n",
       "      <td>9.7</td>\n",
       "    </tr>\n",
       "    <tr>\n",
       "      <th>197</th>\n",
       "      <td>177.0</td>\n",
       "      <td>9.3</td>\n",
       "      <td>6.4</td>\n",
       "      <td>12.8</td>\n",
       "    </tr>\n",
       "    <tr>\n",
       "      <th>198</th>\n",
       "      <td>283.6</td>\n",
       "      <td>42.0</td>\n",
       "      <td>66.2</td>\n",
       "      <td>25.5</td>\n",
       "    </tr>\n",
       "    <tr>\n",
       "      <th>199</th>\n",
       "      <td>232.1</td>\n",
       "      <td>8.6</td>\n",
       "      <td>8.7</td>\n",
       "      <td>13.4</td>\n",
       "    </tr>\n",
       "  </tbody>\n",
       "</table>\n",
       "<p>200 rows × 4 columns</p>\n",
       "</div>"
      ],
      "text/plain": [
       "        TV  radio  newspaper  sales\n",
       "0    230.1   37.8       69.2   22.1\n",
       "1     44.5   39.3       45.1   10.4\n",
       "2     17.2   45.9       69.3    9.3\n",
       "3    151.5   41.3       58.5   18.5\n",
       "4    180.8   10.8       58.4   12.9\n",
       "..     ...    ...        ...    ...\n",
       "195   38.2    3.7       13.8    7.6\n",
       "196   94.2    4.9        8.1    9.7\n",
       "197  177.0    9.3        6.4   12.8\n",
       "198  283.6   42.0       66.2   25.5\n",
       "199  232.1    8.6        8.7   13.4\n",
       "\n",
       "[200 rows x 4 columns]"
      ]
     },
     "execution_count": 221,
     "metadata": {},
     "output_type": "execute_result"
    }
   ],
   "source": [
    "df"
   ]
  },
  {
   "cell_type": "code",
   "execution_count": 222,
   "id": "34bbfc67",
   "metadata": {},
   "outputs": [
    {
     "data": {
      "text/plain": [
       "Index(['TV', 'radio', 'newspaper', 'sales'], dtype='object')"
      ]
     },
     "execution_count": 222,
     "metadata": {},
     "output_type": "execute_result"
    }
   ],
   "source": [
    "df.columns"
   ]
  },
  {
   "cell_type": "code",
   "execution_count": 223,
   "id": "39e49704",
   "metadata": {},
   "outputs": [
    {
     "data": {
      "text/plain": [
       "(200, 4)"
      ]
     },
     "execution_count": 223,
     "metadata": {},
     "output_type": "execute_result"
    }
   ],
   "source": [
    "df.shape"
   ]
  },
  {
   "cell_type": "code",
   "execution_count": 224,
   "id": "96d05868",
   "metadata": {},
   "outputs": [
    {
     "data": {
      "text/html": [
       "<div>\n",
       "<style scoped>\n",
       "    .dataframe tbody tr th:only-of-type {\n",
       "        vertical-align: middle;\n",
       "    }\n",
       "\n",
       "    .dataframe tbody tr th {\n",
       "        vertical-align: top;\n",
       "    }\n",
       "\n",
       "    .dataframe thead th {\n",
       "        text-align: right;\n",
       "    }\n",
       "</style>\n",
       "<table border=\"1\" class=\"dataframe\">\n",
       "  <thead>\n",
       "    <tr style=\"text-align: right;\">\n",
       "      <th></th>\n",
       "      <th>TV</th>\n",
       "      <th>radio</th>\n",
       "      <th>newspaper</th>\n",
       "      <th>sales</th>\n",
       "    </tr>\n",
       "  </thead>\n",
       "  <tbody>\n",
       "    <tr>\n",
       "      <th>0</th>\n",
       "      <td>230.1</td>\n",
       "      <td>37.8</td>\n",
       "      <td>69.2</td>\n",
       "      <td>22.1</td>\n",
       "    </tr>\n",
       "    <tr>\n",
       "      <th>1</th>\n",
       "      <td>44.5</td>\n",
       "      <td>39.3</td>\n",
       "      <td>45.1</td>\n",
       "      <td>10.4</td>\n",
       "    </tr>\n",
       "    <tr>\n",
       "      <th>2</th>\n",
       "      <td>17.2</td>\n",
       "      <td>45.9</td>\n",
       "      <td>69.3</td>\n",
       "      <td>9.3</td>\n",
       "    </tr>\n",
       "    <tr>\n",
       "      <th>3</th>\n",
       "      <td>151.5</td>\n",
       "      <td>41.3</td>\n",
       "      <td>58.5</td>\n",
       "      <td>18.5</td>\n",
       "    </tr>\n",
       "    <tr>\n",
       "      <th>4</th>\n",
       "      <td>180.8</td>\n",
       "      <td>10.8</td>\n",
       "      <td>58.4</td>\n",
       "      <td>12.9</td>\n",
       "    </tr>\n",
       "  </tbody>\n",
       "</table>\n",
       "</div>"
      ],
      "text/plain": [
       "      TV  radio  newspaper  sales\n",
       "0  230.1   37.8       69.2   22.1\n",
       "1   44.5   39.3       45.1   10.4\n",
       "2   17.2   45.9       69.3    9.3\n",
       "3  151.5   41.3       58.5   18.5\n",
       "4  180.8   10.8       58.4   12.9"
      ]
     },
     "execution_count": 224,
     "metadata": {},
     "output_type": "execute_result"
    }
   ],
   "source": [
    "df.head()"
   ]
  },
  {
   "cell_type": "code",
   "execution_count": 225,
   "id": "ae718ab0",
   "metadata": {},
   "outputs": [
    {
     "data": {
      "text/html": [
       "<div>\n",
       "<style scoped>\n",
       "    .dataframe tbody tr th:only-of-type {\n",
       "        vertical-align: middle;\n",
       "    }\n",
       "\n",
       "    .dataframe tbody tr th {\n",
       "        vertical-align: top;\n",
       "    }\n",
       "\n",
       "    .dataframe thead th {\n",
       "        text-align: right;\n",
       "    }\n",
       "</style>\n",
       "<table border=\"1\" class=\"dataframe\">\n",
       "  <thead>\n",
       "    <tr style=\"text-align: right;\">\n",
       "      <th></th>\n",
       "      <th>TV</th>\n",
       "      <th>radio</th>\n",
       "      <th>newspaper</th>\n",
       "      <th>sales</th>\n",
       "    </tr>\n",
       "  </thead>\n",
       "  <tbody>\n",
       "    <tr>\n",
       "      <th>195</th>\n",
       "      <td>38.2</td>\n",
       "      <td>3.7</td>\n",
       "      <td>13.8</td>\n",
       "      <td>7.6</td>\n",
       "    </tr>\n",
       "    <tr>\n",
       "      <th>196</th>\n",
       "      <td>94.2</td>\n",
       "      <td>4.9</td>\n",
       "      <td>8.1</td>\n",
       "      <td>9.7</td>\n",
       "    </tr>\n",
       "    <tr>\n",
       "      <th>197</th>\n",
       "      <td>177.0</td>\n",
       "      <td>9.3</td>\n",
       "      <td>6.4</td>\n",
       "      <td>12.8</td>\n",
       "    </tr>\n",
       "    <tr>\n",
       "      <th>198</th>\n",
       "      <td>283.6</td>\n",
       "      <td>42.0</td>\n",
       "      <td>66.2</td>\n",
       "      <td>25.5</td>\n",
       "    </tr>\n",
       "    <tr>\n",
       "      <th>199</th>\n",
       "      <td>232.1</td>\n",
       "      <td>8.6</td>\n",
       "      <td>8.7</td>\n",
       "      <td>13.4</td>\n",
       "    </tr>\n",
       "  </tbody>\n",
       "</table>\n",
       "</div>"
      ],
      "text/plain": [
       "        TV  radio  newspaper  sales\n",
       "195   38.2    3.7       13.8    7.6\n",
       "196   94.2    4.9        8.1    9.7\n",
       "197  177.0    9.3        6.4   12.8\n",
       "198  283.6   42.0       66.2   25.5\n",
       "199  232.1    8.6        8.7   13.4"
      ]
     },
     "execution_count": 225,
     "metadata": {},
     "output_type": "execute_result"
    }
   ],
   "source": [
    "df.tail()"
   ]
  },
  {
   "cell_type": "code",
   "execution_count": 226,
   "id": "ba9480e9",
   "metadata": {},
   "outputs": [
    {
     "data": {
      "text/html": [
       "<div>\n",
       "<style scoped>\n",
       "    .dataframe tbody tr th:only-of-type {\n",
       "        vertical-align: middle;\n",
       "    }\n",
       "\n",
       "    .dataframe tbody tr th {\n",
       "        vertical-align: top;\n",
       "    }\n",
       "\n",
       "    .dataframe thead th {\n",
       "        text-align: right;\n",
       "    }\n",
       "</style>\n",
       "<table border=\"1\" class=\"dataframe\">\n",
       "  <thead>\n",
       "    <tr style=\"text-align: right;\">\n",
       "      <th></th>\n",
       "      <th>TV</th>\n",
       "      <th>radio</th>\n",
       "      <th>newspaper</th>\n",
       "      <th>sales</th>\n",
       "    </tr>\n",
       "  </thead>\n",
       "  <tbody>\n",
       "    <tr>\n",
       "      <th>108</th>\n",
       "      <td>13.1</td>\n",
       "      <td>0.4</td>\n",
       "      <td>25.6</td>\n",
       "      <td>5.3</td>\n",
       "    </tr>\n",
       "    <tr>\n",
       "      <th>70</th>\n",
       "      <td>199.1</td>\n",
       "      <td>30.6</td>\n",
       "      <td>38.7</td>\n",
       "      <td>18.3</td>\n",
       "    </tr>\n",
       "    <tr>\n",
       "      <th>98</th>\n",
       "      <td>289.7</td>\n",
       "      <td>42.3</td>\n",
       "      <td>51.2</td>\n",
       "      <td>25.4</td>\n",
       "    </tr>\n",
       "  </tbody>\n",
       "</table>\n",
       "</div>"
      ],
      "text/plain": [
       "        TV  radio  newspaper  sales\n",
       "108   13.1    0.4       25.6    5.3\n",
       "70   199.1   30.6       38.7   18.3\n",
       "98   289.7   42.3       51.2   25.4"
      ]
     },
     "execution_count": 226,
     "metadata": {},
     "output_type": "execute_result"
    }
   ],
   "source": [
    "df.sample(3)"
   ]
  },
  {
   "cell_type": "markdown",
   "id": "56933fbc",
   "metadata": {},
   "source": [
    "# Checking null values :"
   ]
  },
  {
   "cell_type": "code",
   "execution_count": 227,
   "id": "65668c28",
   "metadata": {},
   "outputs": [
    {
     "data": {
      "text/plain": [
       "TV           0\n",
       "radio        0\n",
       "newspaper    0\n",
       "sales        0\n",
       "dtype: int64"
      ]
     },
     "execution_count": 227,
     "metadata": {},
     "output_type": "execute_result"
    }
   ],
   "source": [
    "\n",
    "# There are no NULL values in the dataset, hence it is clean.\n",
    "\n",
    "df.isnull().sum()"
   ]
  },
  {
   "cell_type": "code",
   "execution_count": 228,
   "id": "b152ea94",
   "metadata": {},
   "outputs": [
    {
     "data": {
      "text/html": [
       "<div>\n",
       "<style scoped>\n",
       "    .dataframe tbody tr th:only-of-type {\n",
       "        vertical-align: middle;\n",
       "    }\n",
       "\n",
       "    .dataframe tbody tr th {\n",
       "        vertical-align: top;\n",
       "    }\n",
       "\n",
       "    .dataframe thead th {\n",
       "        text-align: right;\n",
       "    }\n",
       "</style>\n",
       "<table border=\"1\" class=\"dataframe\">\n",
       "  <thead>\n",
       "    <tr style=\"text-align: right;\">\n",
       "      <th></th>\n",
       "      <th>TV</th>\n",
       "      <th>radio</th>\n",
       "      <th>newspaper</th>\n",
       "      <th>sales</th>\n",
       "    </tr>\n",
       "  </thead>\n",
       "  <tbody>\n",
       "    <tr>\n",
       "      <th>0</th>\n",
       "      <td>False</td>\n",
       "      <td>False</td>\n",
       "      <td>False</td>\n",
       "      <td>False</td>\n",
       "    </tr>\n",
       "    <tr>\n",
       "      <th>1</th>\n",
       "      <td>False</td>\n",
       "      <td>False</td>\n",
       "      <td>False</td>\n",
       "      <td>False</td>\n",
       "    </tr>\n",
       "    <tr>\n",
       "      <th>2</th>\n",
       "      <td>False</td>\n",
       "      <td>False</td>\n",
       "      <td>False</td>\n",
       "      <td>False</td>\n",
       "    </tr>\n",
       "    <tr>\n",
       "      <th>3</th>\n",
       "      <td>False</td>\n",
       "      <td>False</td>\n",
       "      <td>False</td>\n",
       "      <td>False</td>\n",
       "    </tr>\n",
       "    <tr>\n",
       "      <th>4</th>\n",
       "      <td>False</td>\n",
       "      <td>False</td>\n",
       "      <td>False</td>\n",
       "      <td>False</td>\n",
       "    </tr>\n",
       "    <tr>\n",
       "      <th>...</th>\n",
       "      <td>...</td>\n",
       "      <td>...</td>\n",
       "      <td>...</td>\n",
       "      <td>...</td>\n",
       "    </tr>\n",
       "    <tr>\n",
       "      <th>195</th>\n",
       "      <td>False</td>\n",
       "      <td>False</td>\n",
       "      <td>False</td>\n",
       "      <td>False</td>\n",
       "    </tr>\n",
       "    <tr>\n",
       "      <th>196</th>\n",
       "      <td>False</td>\n",
       "      <td>False</td>\n",
       "      <td>False</td>\n",
       "      <td>False</td>\n",
       "    </tr>\n",
       "    <tr>\n",
       "      <th>197</th>\n",
       "      <td>False</td>\n",
       "      <td>False</td>\n",
       "      <td>False</td>\n",
       "      <td>False</td>\n",
       "    </tr>\n",
       "    <tr>\n",
       "      <th>198</th>\n",
       "      <td>False</td>\n",
       "      <td>False</td>\n",
       "      <td>False</td>\n",
       "      <td>False</td>\n",
       "    </tr>\n",
       "    <tr>\n",
       "      <th>199</th>\n",
       "      <td>False</td>\n",
       "      <td>False</td>\n",
       "      <td>False</td>\n",
       "      <td>False</td>\n",
       "    </tr>\n",
       "  </tbody>\n",
       "</table>\n",
       "<p>200 rows × 4 columns</p>\n",
       "</div>"
      ],
      "text/plain": [
       "        TV  radio  newspaper  sales\n",
       "0    False  False      False  False\n",
       "1    False  False      False  False\n",
       "2    False  False      False  False\n",
       "3    False  False      False  False\n",
       "4    False  False      False  False\n",
       "..     ...    ...        ...    ...\n",
       "195  False  False      False  False\n",
       "196  False  False      False  False\n",
       "197  False  False      False  False\n",
       "198  False  False      False  False\n",
       "199  False  False      False  False\n",
       "\n",
       "[200 rows x 4 columns]"
      ]
     },
     "execution_count": 228,
     "metadata": {},
     "output_type": "execute_result"
    }
   ],
   "source": [
    "df.isnull()"
   ]
  },
  {
   "cell_type": "code",
   "execution_count": 229,
   "id": "c6773166",
   "metadata": {},
   "outputs": [
    {
     "data": {
      "text/plain": [
       "<AxesSubplot:>"
      ]
     },
     "execution_count": 229,
     "metadata": {},
     "output_type": "execute_result"
    },
    {
     "data": {
      "image/png": "[encoded data removed]",
      "text/plain": [
       "<Figure size 432x288 with 2 Axes>"
      ]
     },
     "metadata": {
      "needs_background": "light"
     },
     "output_type": "display_data"
    }
   ],
   "source": [
    "sns.heatmap(df.isnull())"
   ]
  },
  {
   "cell_type": "markdown",
   "id": "ef142700",
   "metadata": {},
   "source": [
    "There are no NULL values in the dataset, hence it is clean.\n"
   ]
  },
  {
   "cell_type": "code",
   "execution_count": 230,
   "id": "1b8c6f18",
   "metadata": {},
   "outputs": [
    {
     "data": {
      "text/plain": [
       "array([22.1, 10.4,  9.3, 18.5, 12.9,  7.2, 11.8, 13.2,  4.8, 10.6,  8.6,\n",
       "       17.4,  9.2,  9.7, 19. , 22.4, 12.5, 24.4, 11.3, 14.6, 18. ,  5.6,\n",
       "       15.5, 12. , 15. , 15.9, 18.9, 10.5, 21.4, 11.9,  9.6,  9.5, 12.8,\n",
       "       25.4, 14.7, 10.1, 21.5, 16.6, 17.1, 20.7,  8.5, 14.9, 23.2, 14.8,\n",
       "       11.4, 10.7, 22.6, 21.2, 20.2, 23.7,  5.5, 23.8, 18.4,  8.1, 24.2,\n",
       "       15.7, 14. , 13.4, 22.3, 18.3, 12.4,  8.8, 11. , 17. ,  8.7,  6.9,\n",
       "       14.2,  5.3, 12.3, 13.6, 21.7, 15.2, 16. , 16.7, 11.2,  7.3, 19.4,\n",
       "       22.2, 11.5, 16.9, 11.7, 17.2, 19.2, 19.8, 21.8, 14.1, 12.6, 12.2,\n",
       "        9.4,  6.6,  7. , 11.6, 19.7, 24.7,  1.6, 12.7,  5.7, 19.6, 10.8,\n",
       "       20.8, 10.9, 20.1, 10.3, 16.1, 15.6,  3.2, 15.3, 14.4, 13.3,  8. ,\n",
       "        8.4, 14.5,  7.6, 27. , 26.2, 17.6, 17.3,  6.7,  9.9,  5.9, 25.5])"
      ]
     },
     "execution_count": 230,
     "metadata": {},
     "output_type": "execute_result"
    }
   ],
   "source": [
    "df['sales'].unique()"
   ]
  },
  {
   "cell_type": "code",
   "execution_count": 231,
   "id": "64b6a608",
   "metadata": {},
   "outputs": [
    {
     "data": {
      "text/plain": [
       "121"
      ]
     },
     "execution_count": 231,
     "metadata": {},
     "output_type": "execute_result"
    }
   ],
   "source": [
    "df['sales'].nunique()"
   ]
  },
  {
   "cell_type": "code",
   "execution_count": 232,
   "id": "8db689bc",
   "metadata": {},
   "outputs": [
    {
     "data": {
      "text/plain": [
       "(200, 4)"
      ]
     },
     "execution_count": 232,
     "metadata": {},
     "output_type": "execute_result"
    }
   ],
   "source": [
    "df.shape"
   ]
  },
  {
   "cell_type": "code",
   "execution_count": 233,
   "id": "48cd3e8c",
   "metadata": {},
   "outputs": [
    {
     "data": {
      "text/html": [
       "<div>\n",
       "<style scoped>\n",
       "    .dataframe tbody tr th:only-of-type {\n",
       "        vertical-align: middle;\n",
       "    }\n",
       "\n",
       "    .dataframe tbody tr th {\n",
       "        vertical-align: top;\n",
       "    }\n",
       "\n",
       "    .dataframe thead th {\n",
       "        text-align: right;\n",
       "    }\n",
       "</style>\n",
       "<table border=\"1\" class=\"dataframe\">\n",
       "  <thead>\n",
       "    <tr style=\"text-align: right;\">\n",
       "      <th></th>\n",
       "      <th>TV</th>\n",
       "      <th>radio</th>\n",
       "      <th>newspaper</th>\n",
       "      <th>sales</th>\n",
       "    </tr>\n",
       "  </thead>\n",
       "  <tbody>\n",
       "  </tbody>\n",
       "</table>\n",
       "</div>"
      ],
      "text/plain": [
       "Empty DataFrame\n",
       "Columns: [TV, radio, newspaper, sales]\n",
       "Index: []"
      ]
     },
     "execution_count": 233,
     "metadata": {},
     "output_type": "execute_result"
    }
   ],
   "source": [
    "df.loc[df['sales']== \" \"]"
   ]
  },
  {
   "cell_type": "markdown",
   "id": "8f1b3104",
   "metadata": {},
   "source": [
    "After some observation, there are no white space in the data"
   ]
  },
  {
   "cell_type": "code",
   "execution_count": 234,
   "id": "fbbabcbf",
   "metadata": {},
   "outputs": [
    {
     "data": {
      "text/plain": [
       "TV           float64\n",
       "radio        float64\n",
       "newspaper    float64\n",
       "sales        float64\n",
       "dtype: object"
      ]
     },
     "execution_count": 234,
     "metadata": {},
     "output_type": "execute_result"
    }
   ],
   "source": [
    "df.dtypes"
   ]
  },
  {
   "cell_type": "code",
   "execution_count": null,
   "id": "4dc8a9ea",
   "metadata": {},
   "outputs": [],
   "source": []
  },
  {
   "cell_type": "markdown",
   "id": "0d1ac9a5",
   "metadata": {},
   "source": [
    "# describe the data"
   ]
  },
  {
   "cell_type": "code",
   "execution_count": 235,
   "id": "f25021c3",
   "metadata": {},
   "outputs": [
    {
     "data": {
      "text/html": [
       "<div>\n",
       "<style scoped>\n",
       "    .dataframe tbody tr th:only-of-type {\n",
       "        vertical-align: middle;\n",
       "    }\n",
       "\n",
       "    .dataframe tbody tr th {\n",
       "        vertical-align: top;\n",
       "    }\n",
       "\n",
       "    .dataframe thead th {\n",
       "        text-align: right;\n",
       "    }\n",
       "</style>\n",
       "<table border=\"1\" class=\"dataframe\">\n",
       "  <thead>\n",
       "    <tr style=\"text-align: right;\">\n",
       "      <th></th>\n",
       "      <th>TV</th>\n",
       "      <th>radio</th>\n",
       "      <th>newspaper</th>\n",
       "      <th>sales</th>\n",
       "    </tr>\n",
       "  </thead>\n",
       "  <tbody>\n",
       "    <tr>\n",
       "      <th>count</th>\n",
       "      <td>200.000000</td>\n",
       "      <td>200.000000</td>\n",
       "      <td>200.000000</td>\n",
       "      <td>200.000000</td>\n",
       "    </tr>\n",
       "    <tr>\n",
       "      <th>mean</th>\n",
       "      <td>147.042500</td>\n",
       "      <td>23.264000</td>\n",
       "      <td>30.554000</td>\n",
       "      <td>14.022500</td>\n",
       "    </tr>\n",
       "    <tr>\n",
       "      <th>std</th>\n",
       "      <td>85.854236</td>\n",
       "      <td>14.846809</td>\n",
       "      <td>21.778621</td>\n",
       "      <td>5.217457</td>\n",
       "    </tr>\n",
       "    <tr>\n",
       "      <th>min</th>\n",
       "      <td>0.700000</td>\n",
       "      <td>0.000000</td>\n",
       "      <td>0.300000</td>\n",
       "      <td>1.600000</td>\n",
       "    </tr>\n",
       "    <tr>\n",
       "      <th>25%</th>\n",
       "      <td>74.375000</td>\n",
       "      <td>9.975000</td>\n",
       "      <td>12.750000</td>\n",
       "      <td>10.375000</td>\n",
       "    </tr>\n",
       "    <tr>\n",
       "      <th>50%</th>\n",
       "      <td>149.750000</td>\n",
       "      <td>22.900000</td>\n",
       "      <td>25.750000</td>\n",
       "      <td>12.900000</td>\n",
       "    </tr>\n",
       "    <tr>\n",
       "      <th>75%</th>\n",
       "      <td>218.825000</td>\n",
       "      <td>36.525000</td>\n",
       "      <td>45.100000</td>\n",
       "      <td>17.400000</td>\n",
       "    </tr>\n",
       "    <tr>\n",
       "      <th>max</th>\n",
       "      <td>296.400000</td>\n",
       "      <td>49.600000</td>\n",
       "      <td>114.000000</td>\n",
       "      <td>27.000000</td>\n",
       "    </tr>\n",
       "  </tbody>\n",
       "</table>\n",
       "</div>"
      ],
      "text/plain": [
       "               TV       radio   newspaper       sales\n",
       "count  200.000000  200.000000  200.000000  200.000000\n",
       "mean   147.042500   23.264000   30.554000   14.022500\n",
       "std     85.854236   14.846809   21.778621    5.217457\n",
       "min      0.700000    0.000000    0.300000    1.600000\n",
       "25%     74.375000    9.975000   12.750000   10.375000\n",
       "50%    149.750000   22.900000   25.750000   12.900000\n",
       "75%    218.825000   36.525000   45.100000   17.400000\n",
       "max    296.400000   49.600000  114.000000   27.000000"
      ]
     },
     "execution_count": 235,
     "metadata": {},
     "output_type": "execute_result"
    }
   ],
   "source": [
    "df.describe()"
   ]
  },
  {
   "cell_type": "code",
   "execution_count": 236,
   "id": "94dad846",
   "metadata": {},
   "outputs": [
    {
     "data": {
      "text/html": [
       "<div>\n",
       "<style scoped>\n",
       "    .dataframe tbody tr th:only-of-type {\n",
       "        vertical-align: middle;\n",
       "    }\n",
       "\n",
       "    .dataframe tbody tr th {\n",
       "        vertical-align: top;\n",
       "    }\n",
       "\n",
       "    .dataframe thead th {\n",
       "        text-align: right;\n",
       "    }\n",
       "</style>\n",
       "<table border=\"1\" class=\"dataframe\">\n",
       "  <thead>\n",
       "    <tr style=\"text-align: right;\">\n",
       "      <th></th>\n",
       "      <th>TV</th>\n",
       "      <th>radio</th>\n",
       "      <th>newspaper</th>\n",
       "      <th>sales</th>\n",
       "    </tr>\n",
       "  </thead>\n",
       "  <tbody>\n",
       "    <tr>\n",
       "      <th>count</th>\n",
       "      <td>200.00</td>\n",
       "      <td>200.00</td>\n",
       "      <td>200.00</td>\n",
       "      <td>200.00</td>\n",
       "    </tr>\n",
       "    <tr>\n",
       "      <th>mean</th>\n",
       "      <td>147.04</td>\n",
       "      <td>23.26</td>\n",
       "      <td>30.55</td>\n",
       "      <td>14.02</td>\n",
       "    </tr>\n",
       "    <tr>\n",
       "      <th>std</th>\n",
       "      <td>85.85</td>\n",
       "      <td>14.85</td>\n",
       "      <td>21.78</td>\n",
       "      <td>5.22</td>\n",
       "    </tr>\n",
       "    <tr>\n",
       "      <th>min</th>\n",
       "      <td>0.70</td>\n",
       "      <td>0.00</td>\n",
       "      <td>0.30</td>\n",
       "      <td>1.60</td>\n",
       "    </tr>\n",
       "    <tr>\n",
       "      <th>25%</th>\n",
       "      <td>74.38</td>\n",
       "      <td>9.98</td>\n",
       "      <td>12.75</td>\n",
       "      <td>10.38</td>\n",
       "    </tr>\n",
       "    <tr>\n",
       "      <th>50%</th>\n",
       "      <td>149.75</td>\n",
       "      <td>22.90</td>\n",
       "      <td>25.75</td>\n",
       "      <td>12.90</td>\n",
       "    </tr>\n",
       "    <tr>\n",
       "      <th>75%</th>\n",
       "      <td>218.82</td>\n",
       "      <td>36.52</td>\n",
       "      <td>45.10</td>\n",
       "      <td>17.40</td>\n",
       "    </tr>\n",
       "    <tr>\n",
       "      <th>max</th>\n",
       "      <td>296.40</td>\n",
       "      <td>49.60</td>\n",
       "      <td>114.00</td>\n",
       "      <td>27.00</td>\n",
       "    </tr>\n",
       "  </tbody>\n",
       "</table>\n",
       "</div>"
      ],
      "text/plain": [
       "           TV   radio  newspaper   sales\n",
       "count  200.00  200.00     200.00  200.00\n",
       "mean   147.04   23.26      30.55   14.02\n",
       "std     85.85   14.85      21.78    5.22\n",
       "min      0.70    0.00       0.30    1.60\n",
       "25%     74.38    9.98      12.75   10.38\n",
       "50%    149.75   22.90      25.75   12.90\n",
       "75%    218.82   36.52      45.10   17.40\n",
       "max    296.40   49.60     114.00   27.00"
      ]
     },
     "execution_count": 236,
     "metadata": {},
     "output_type": "execute_result"
    }
   ],
   "source": [
    "round(df.describe(),2)"
   ]
  },
  {
   "cell_type": "code",
   "execution_count": 237,
   "id": "5957e248",
   "metadata": {},
   "outputs": [
    {
     "data": {
      "text/plain": [
       "<AxesSubplot:>"
      ]
     },
     "execution_count": 237,
     "metadata": {},
     "output_type": "execute_result"
    },
    {
     "data": {
      "image/png": "[encoded data removed]",
      "text/plain": [
       "<Figure size 432x288 with 2 Axes>"
      ]
     },
     "metadata": {
      "needs_background": "light"
     },
     "output_type": "display_data"
    }
   ],
   "source": [
    "sns.heatmap(df.describe(),annot=True,color='white',fmt='0.2f')"
   ]
  },
  {
   "cell_type": "markdown",
   "id": "128541e3",
   "metadata": {},
   "source": [
    "# Outcome of describe of datasets"
   ]
  },
  {
   "cell_type": "markdown",
   "id": "fc9b5d93",
   "metadata": {},
   "source": [
    "from the above plotting we are determining mean, std,min,max value of each column."
   ]
  },
  {
   "cell_type": "code",
   "execution_count": 238,
   "id": "dd992914",
   "metadata": {},
   "outputs": [
    {
     "data": {
      "text/plain": [
       "(200, 4)"
      ]
     },
     "execution_count": 238,
     "metadata": {},
     "output_type": "execute_result"
    }
   ],
   "source": [
    "df.shape"
   ]
  },
  {
   "cell_type": "markdown",
   "id": "4d0b6f28",
   "metadata": {},
   "source": [
    "Tv :\n",
    "\n",
    "1. Mean=147.04\n",
    "2. std=85.85\n",
    "3. min_values=0.70\n",
    "4. max_values=296.40\n",
    "\n",
    "\n",
    "radio:\n",
    "    \n",
    "1. Mean=23.26\n",
    "2. std=14.85\n",
    "3. min_values=0.00\n",
    "4. max_values=49.60\n",
    "\n",
    "\n",
    "newspaper:\n",
    "    \n",
    "1. Mean=30.55\n",
    "2. std=21.78\n",
    "3. min_values=0.30\n",
    "4. max_values=114.00\n",
    "\n",
    "\n",
    "sales :\n",
    "    \n",
    "1. Mean=14.02\n",
    "2. std=21.78\n",
    "3. min_values=5.22\n",
    "4. max_values=27.00"
   ]
  },
  {
   "cell_type": "markdown",
   "id": "25b89dd1",
   "metadata": {},
   "source": [
    "# Data Cleaning"
   ]
  },
  {
   "cell_type": "code",
   "execution_count": 239,
   "id": "54c9965f",
   "metadata": {},
   "outputs": [
    {
     "data": {
      "text/plain": [
       "TV           0\n",
       "radio        0\n",
       "newspaper    0\n",
       "sales        0\n",
       "dtype: int64"
      ]
     },
     "execution_count": 239,
     "metadata": {},
     "output_type": "execute_result"
    }
   ],
   "source": [
    "df.isnull().sum()"
   ]
  },
  {
   "cell_type": "markdown",
   "id": "d6fb0315",
   "metadata": {},
   "source": [
    "Ther is no null values so data is clean"
   ]
  },
  {
   "cell_type": "code",
   "execution_count": null,
   "id": "504021b8",
   "metadata": {},
   "outputs": [],
   "source": []
  },
  {
   "cell_type": "markdown",
   "id": "46233c34",
   "metadata": {},
   "source": [
    "# Outlier Analysis :"
   ]
  },
  {
   "cell_type": "code",
   "execution_count": 240,
   "id": "50189e67",
   "metadata": {},
   "outputs": [
    {
     "data": {
      "text/plain": [
       "<AxesSubplot:>"
      ]
     },
     "execution_count": 240,
     "metadata": {},
     "output_type": "execute_result"
    },
    {
     "data": {
      "image/png": "[encoded data removed]",
      "text/plain": [
       "<Figure size 432x288 with 1 Axes>"
      ]
     },
     "metadata": {
      "needs_background": "light"
     },
     "output_type": "display_data"
    }
   ],
   "source": [
    "df['TV'].plot.box()"
   ]
  },
  {
   "cell_type": "markdown",
   "id": "edb955b7",
   "metadata": {},
   "source": [
    "Ther is no outliers"
   ]
  },
  {
   "cell_type": "code",
   "execution_count": 241,
   "id": "8bd49a58",
   "metadata": {},
   "outputs": [
    {
     "data": {
      "text/plain": [
       "<AxesSubplot:>"
      ]
     },
     "execution_count": 241,
     "metadata": {},
     "output_type": "execute_result"
    },
    {
     "data": {
      "image/png": "[encoded data removed]",
      "text/plain": [
       "<Figure size 432x288 with 1 Axes>"
      ]
     },
     "metadata": {
      "needs_background": "light"
     },
     "output_type": "display_data"
    }
   ],
   "source": [
    "df['radio'].plot.box()"
   ]
  },
  {
   "cell_type": "markdown",
   "id": "25da1c3c",
   "metadata": {},
   "source": [
    "there is no outliers"
   ]
  },
  {
   "cell_type": "code",
   "execution_count": 242,
   "id": "605ddfc5",
   "metadata": {},
   "outputs": [
    {
     "data": {
      "text/plain": [
       "<AxesSubplot:>"
      ]
     },
     "execution_count": 242,
     "metadata": {},
     "output_type": "execute_result"
    },
    {
     "data": {
      "image/png": "[encoded data removed]",
      "text/plain": [
       "<Figure size 432x288 with 1 Axes>"
      ]
     },
     "metadata": {
      "needs_background": "light"
     },
     "output_type": "display_data"
    }
   ],
   "source": [
    "df['newspaper'].plot.box()"
   ]
  },
  {
   "cell_type": "markdown",
   "id": "3db159de",
   "metadata": {},
   "source": [
    "outliers is present there"
   ]
  },
  {
   "cell_type": "code",
   "execution_count": 243,
   "id": "1422a142",
   "metadata": {},
   "outputs": [
    {
     "data": {
      "text/plain": [
       "<AxesSubplot:>"
      ]
     },
     "execution_count": 243,
     "metadata": {},
     "output_type": "execute_result"
    },
    {
     "data": {
      "image/png": "[encoded data removed]",
      "text/plain": [
       "<Figure size 432x288 with 1 Axes>"
      ]
     },
     "metadata": {
      "needs_background": "light"
     },
     "output_type": "display_data"
    }
   ],
   "source": [
    "df['sales'].plot.box()"
   ]
  },
  {
   "cell_type": "markdown",
   "id": "d5401d70",
   "metadata": {},
   "source": [
    "there is no outliers"
   ]
  },
  {
   "cell_type": "markdown",
   "id": "558d0d2d",
   "metadata": {},
   "source": [
    "# There are no considerable outliers present in the data."
   ]
  },
  {
   "cell_type": "markdown",
   "id": "c4124b61",
   "metadata": {},
   "source": [
    "# Univariate Analysis¶"
   ]
  },
  {
   "cell_type": "markdown",
   "id": "808de871",
   "metadata": {},
   "source": [
    "Sales (Target Variable)"
   ]
  },
  {
   "cell_type": "code",
   "execution_count": 244,
   "id": "2e1e9ff6",
   "metadata": {},
   "outputs": [
    {
     "data": {
      "image/png": "[encoded data removed]",
      "text/plain": [
       "<Figure size 432x288 with 1 Axes>"
      ]
     },
     "metadata": {
      "needs_background": "light"
     },
     "output_type": "display_data"
    }
   ],
   "source": [
    "import warnings\n",
    "\n",
    "warnings.filterwarnings('ignore')\n",
    "\n",
    "sns.boxplot(df['sales'])\n",
    "plt.show()"
   ]
  },
  {
   "cell_type": "code",
   "execution_count": 245,
   "id": "f1f8919b",
   "metadata": {},
   "outputs": [
    {
     "data": {
      "image/png": "[encoded data removed]",
      "text/plain": [
       "<Figure size 864x288 with 3 Axes>"
      ]
     },
     "metadata": {
      "needs_background": "light"
     },
     "output_type": "display_data"
    }
   ],
   "source": [
    "# Let's see how Sales are related with other variables using scatter plot.\n",
    "\n",
    "\n",
    "sns.pairplot(df, x_vars=['TV', 'newspaper', 'radio'], y_vars='sales', height=4, aspect=1, kind='scatter')\n",
    "plt.show()"
   ]
  },
  {
   "cell_type": "code",
   "execution_count": 246,
   "id": "bc860ce4",
   "metadata": {},
   "outputs": [
    {
     "data": {
      "text/plain": [
       "<seaborn.axisgrid.PairGrid at 0x20b11ea6670>"
      ]
     },
     "execution_count": 246,
     "metadata": {},
     "output_type": "execute_result"
    },
    {
     "data": {
      "image/png": "[encoded data removed]",
      "text/plain": [
       "<Figure size 720x720 with 20 Axes>"
      ]
     },
     "metadata": {
      "needs_background": "light"
     },
     "output_type": "display_data"
    }
   ],
   "source": [
    "sns.pairplot(df)"
   ]
  },
  {
   "cell_type": "markdown",
   "id": "31dd6692",
   "metadata": {},
   "source": [
    "# Let's see the correlation between different variables.\n"
   ]
  },
  {
   "cell_type": "code",
   "execution_count": 247,
   "id": "5261900f",
   "metadata": {},
   "outputs": [
    {
     "data": {
      "text/html": [
       "<div>\n",
       "<style scoped>\n",
       "    .dataframe tbody tr th:only-of-type {\n",
       "        vertical-align: middle;\n",
       "    }\n",
       "\n",
       "    .dataframe tbody tr th {\n",
       "        vertical-align: top;\n",
       "    }\n",
       "\n",
       "    .dataframe thead th {\n",
       "        text-align: right;\n",
       "    }\n",
       "</style>\n",
       "<table border=\"1\" class=\"dataframe\">\n",
       "  <thead>\n",
       "    <tr style=\"text-align: right;\">\n",
       "      <th></th>\n",
       "      <th>TV</th>\n",
       "      <th>radio</th>\n",
       "      <th>newspaper</th>\n",
       "      <th>sales</th>\n",
       "    </tr>\n",
       "  </thead>\n",
       "  <tbody>\n",
       "    <tr>\n",
       "      <th>TV</th>\n",
       "      <td>1.000000</td>\n",
       "      <td>0.054809</td>\n",
       "      <td>0.056648</td>\n",
       "      <td>0.782224</td>\n",
       "    </tr>\n",
       "    <tr>\n",
       "      <th>radio</th>\n",
       "      <td>0.054809</td>\n",
       "      <td>1.000000</td>\n",
       "      <td>0.354104</td>\n",
       "      <td>0.576223</td>\n",
       "    </tr>\n",
       "    <tr>\n",
       "      <th>newspaper</th>\n",
       "      <td>0.056648</td>\n",
       "      <td>0.354104</td>\n",
       "      <td>1.000000</td>\n",
       "      <td>0.228299</td>\n",
       "    </tr>\n",
       "    <tr>\n",
       "      <th>sales</th>\n",
       "      <td>0.782224</td>\n",
       "      <td>0.576223</td>\n",
       "      <td>0.228299</td>\n",
       "      <td>1.000000</td>\n",
       "    </tr>\n",
       "  </tbody>\n",
       "</table>\n",
       "</div>"
      ],
      "text/plain": [
       "                 TV     radio  newspaper     sales\n",
       "TV         1.000000  0.054809   0.056648  0.782224\n",
       "radio      0.054809  1.000000   0.354104  0.576223\n",
       "newspaper  0.056648  0.354104   1.000000  0.228299\n",
       "sales      0.782224  0.576223   0.228299  1.000000"
      ]
     },
     "execution_count": 247,
     "metadata": {},
     "output_type": "execute_result"
    }
   ],
   "source": [
    "# Let's see the correlation between different variables.\n",
    "\n",
    "df.corr()"
   ]
  },
  {
   "cell_type": "code",
   "execution_count": 248,
   "id": "bf617423",
   "metadata": {},
   "outputs": [
    {
     "data": {
      "image/png": "[encoded data removed]",
      "text/plain": [
       "<Figure size 432x288 with 2 Axes>"
      ]
     },
     "metadata": {
      "needs_background": "light"
     },
     "output_type": "display_data"
    }
   ],
   "source": [
    "# Let's see the correlation between different variables.\n",
    "\n",
    "sns.heatmap(df.corr(), cmap=\"YlGnBu\", annot = True)\n",
    "plt.show()"
   ]
  },
  {
   "cell_type": "raw",
   "id": "33ef891d",
   "metadata": {},
   "source": [
    "As is visible from the pairplot and the heatmap, the variable TV seems to be most correlated with Sales. So let's go ahead and perform simple linear regression using TV as our feature variable."
   ]
  },
  {
   "cell_type": "markdown",
   "id": "afb2c93f",
   "metadata": {},
   "source": [
    "# seprating the data into features and target  :"
   ]
  },
  {
   "cell_type": "code",
   "execution_count": 258,
   "id": "26a94573",
   "metadata": {},
   "outputs": [],
   "source": [
    "X = df['TV']\n",
    "y = df['sales']\n"
   ]
  },
  {
   "cell_type": "code",
   "execution_count": 260,
   "id": "b4602e6a",
   "metadata": {},
   "outputs": [
    {
     "name": "stdout",
     "output_type": "stream",
     "text": [
      "At random state 0,the training accuracy is :- 0.9067114990146383\n",
      "At random state 0,the training accuracy is :- 0.8601145185017868\n",
      "\n",
      "\n",
      "At random state 1,the training accuracy is :- 0.8959372632325174\n",
      "At random state 1,the training accuracy is :- 0.8927605914615384\n",
      "\n",
      "\n",
      "At random state 2,the training accuracy is :- 0.9151707412454462\n",
      "At random state 2,the training accuracy is :- 0.7575894500772717\n",
      "\n",
      "\n",
      "At random state 3,the training accuracy is :- 0.8930288385772915\n",
      "At random state 3,the training accuracy is :- 0.9138375011080566\n",
      "\n",
      "\n",
      "At random state 4,the training accuracy is :- 0.8911672911176578\n",
      "At random state 4,the training accuracy is :- 0.9085774752313167\n",
      "\n",
      "\n",
      "At random state 5,the training accuracy is :- 0.8956962280033929\n",
      "At random state 5,the training accuracy is :- 0.8984204533332627\n",
      "\n",
      "\n",
      "At random state 6,the training accuracy is :- 0.8915418760966582\n",
      "At random state 6,the training accuracy is :- 0.922433347392203\n",
      "\n",
      "\n",
      "At random state 7,the training accuracy is :- 0.8929164670647455\n",
      "At random state 7,the training accuracy is :- 0.9095550600904052\n",
      "\n",
      "\n",
      "At random state 8,the training accuracy is :- 0.9088025724048052\n",
      "At random state 8,the training accuracy is :- 0.8460595754263388\n",
      "\n",
      "\n",
      "At random state 9,the training accuracy is :- 0.8897851719766416\n",
      "At random state 9,the training accuracy is :- 0.9256258465335008\n",
      "\n",
      "\n",
      "At random state 10,the training accuracy is :- 0.9209087553499528\n",
      "At random state 10,the training accuracy is :- 0.8353672324670594\n",
      "\n",
      "\n",
      "At random state 11,the training accuracy is :- 0.9111583949248847\n",
      "At random state 11,the training accuracy is :- 0.8449174816183895\n",
      "\n",
      "\n",
      "At random state 12,the training accuracy is :- 0.891451009902517\n",
      "At random state 12,the training accuracy is :- 0.9125583321991082\n",
      "\n",
      "\n",
      "At random state 13,the training accuracy is :- 0.8869244310370576\n",
      "At random state 13,the training accuracy is :- 0.9308589334107374\n",
      "\n",
      "\n",
      "At random state 14,the training accuracy is :- 0.9086354204992951\n",
      "At random state 14,the training accuracy is :- 0.8549663199763198\n",
      "\n",
      "\n",
      "At random state 15,the training accuracy is :- 0.8935846767022744\n",
      "At random state 15,the training accuracy is :- 0.9064939179490465\n",
      "\n",
      "\n",
      "At random state 16,the training accuracy is :- 0.892634156753275\n",
      "At random state 16,the training accuracy is :- 0.91864253803112\n",
      "\n",
      "\n",
      "At random state 17,the training accuracy is :- 0.911643850109681\n",
      "At random state 17,the training accuracy is :- 0.8266375240641093\n",
      "\n",
      "\n",
      "At random state 18,the training accuracy is :- 0.9058350355666276\n",
      "At random state 18,the training accuracy is :- 0.8691428348137913\n",
      "\n",
      "\n",
      "At random state 19,the training accuracy is :- 0.8936653113157833\n",
      "At random state 19,the training accuracy is :- 0.9034108801676058\n",
      "\n",
      "\n",
      "At random state 20,the training accuracy is :- 0.8939415029759356\n",
      "At random state 20,the training accuracy is :- 0.9032049399335232\n",
      "\n",
      "\n",
      "At random state 21,the training accuracy is :- 0.8876272528162705\n",
      "At random state 21,the training accuracy is :- 0.9220737408493859\n",
      "\n",
      "\n",
      "At random state 22,the training accuracy is :- 0.8899965075887379\n",
      "At random state 22,the training accuracy is :- 0.9182667532378175\n",
      "\n",
      "\n",
      "At random state 23,the training accuracy is :- 0.8921659364123988\n",
      "At random state 23,the training accuracy is :- 0.910204221189731\n",
      "\n",
      "\n",
      "At random state 24,the training accuracy is :- 0.8946529864968562\n",
      "At random state 24,the training accuracy is :- 0.9043170168345028\n",
      "\n",
      "\n",
      "At random state 25,the training accuracy is :- 0.9007883778149751\n",
      "At random state 25,the training accuracy is :- 0.8738569641880866\n",
      "\n",
      "\n",
      "At random state 26,the training accuracy is :- 0.8998325917728893\n",
      "At random state 26,the training accuracy is :- 0.8756915597547017\n",
      "\n",
      "\n",
      "At random state 27,the training accuracy is :- 0.8947281937728894\n",
      "At random state 27,the training accuracy is :- 0.9064360707520688\n",
      "\n",
      "\n",
      "At random state 28,the training accuracy is :- 0.899682102176431\n",
      "At random state 28,the training accuracy is :- 0.884139581646469\n",
      "\n",
      "\n",
      "At random state 29,the training accuracy is :- 0.8896422572594603\n",
      "At random state 29,the training accuracy is :- 0.9124795091328944\n",
      "\n",
      "\n",
      "At random state 30,the training accuracy is :- 0.8933633451302291\n",
      "At random state 30,the training accuracy is :- 0.9080112550671722\n",
      "\n",
      "\n",
      "At random state 31,the training accuracy is :- 0.8859036462267695\n",
      "At random state 31,the training accuracy is :- 0.9284346926567392\n",
      "\n",
      "\n",
      "At random state 32,the training accuracy is :- 0.9172972779129942\n",
      "At random state 32,the training accuracy is :- 0.7768844650932812\n",
      "\n",
      "\n",
      "At random state 33,the training accuracy is :- 0.8962848476126537\n",
      "At random state 33,the training accuracy is :- 0.8937288845297464\n",
      "\n",
      "\n",
      "At random state 34,the training accuracy is :- 0.8970495535067476\n",
      "At random state 34,the training accuracy is :- 0.8925087896627705\n",
      "\n",
      "\n",
      "At random state 35,the training accuracy is :- 0.9149802728230204\n",
      "At random state 35,the training accuracy is :- 0.7864906125568901\n",
      "\n",
      "\n",
      "At random state 36,the training accuracy is :- 0.8887387365244299\n",
      "At random state 36,the training accuracy is :- 0.926530749168601\n",
      "\n",
      "\n",
      "At random state 37,the training accuracy is :- 0.8997277119781726\n",
      "At random state 37,the training accuracy is :- 0.8837033479022514\n",
      "\n",
      "\n",
      "At random state 38,the training accuracy is :- 0.8972213778715169\n",
      "At random state 38,the training accuracy is :- 0.8927131887797297\n",
      "\n",
      "\n",
      "At random state 39,the training accuracy is :- 0.8989586369412048\n",
      "At random state 39,the training accuracy is :- 0.8789549979127556\n",
      "\n",
      "\n",
      "At random state 40,the training accuracy is :- 0.920068668721091\n",
      "At random state 40,the training accuracy is :- 0.7982652261831079\n",
      "\n",
      "\n",
      "At random state 41,the training accuracy is :- 0.9006901704189824\n",
      "At random state 41,the training accuracy is :- 0.8819813651740449\n",
      "\n",
      "\n",
      "At random state 42,the training accuracy is :- 0.8957008271017817\n",
      "At random state 42,the training accuracy is :- 0.8994380241009121\n",
      "\n",
      "\n",
      "At random state 43,the training accuracy is :- 0.888477223981934\n",
      "At random state 43,the training accuracy is :- 0.9286102071081018\n",
      "\n",
      "\n",
      "At random state 44,the training accuracy is :- 0.9065895163213828\n",
      "At random state 44,the training accuracy is :- 0.8310290458396923\n",
      "\n",
      "\n",
      "At random state 45,the training accuracy is :- 0.895947647524022\n",
      "At random state 45,the training accuracy is :- 0.8955882331233611\n",
      "\n",
      "\n",
      "At random state 46,the training accuracy is :- 0.9035142166671978\n",
      "At random state 46,the training accuracy is :- 0.8508891379360346\n",
      "\n",
      "\n",
      "At random state 47,the training accuracy is :- 0.8986105026216175\n",
      "At random state 47,the training accuracy is :- 0.8861176124930538\n",
      "\n",
      "\n",
      "At random state 48,the training accuracy is :- 0.8905303930227862\n",
      "At random state 48,the training accuracy is :- 0.9192264895105909\n",
      "\n",
      "\n",
      "At random state 49,the training accuracy is :- 0.9138424680320801\n",
      "At random state 49,the training accuracy is :- 0.8236013350803586\n",
      "\n",
      "\n",
      "At random state 50,the training accuracy is :- 0.9013713199191987\n",
      "At random state 50,the training accuracy is :- 0.847551325142633\n",
      "\n",
      "\n",
      "At random state 51,the training accuracy is :- 0.8935562677321687\n",
      "At random state 51,the training accuracy is :- 0.9079126096145104\n",
      "\n",
      "\n",
      "At random state 52,the training accuracy is :- 0.9018280272898133\n",
      "At random state 52,the training accuracy is :- 0.8811159773607996\n",
      "\n",
      "\n",
      "At random state 53,the training accuracy is :- 0.8887382038237429\n",
      "At random state 53,the training accuracy is :- 0.9255679198924356\n",
      "\n",
      "\n",
      "At random state 54,the training accuracy is :- 0.8919832932654931\n",
      "At random state 54,the training accuracy is :- 0.9175053931302267\n",
      "\n",
      "\n",
      "At random state 55,the training accuracy is :- 0.8946672493883487\n",
      "At random state 55,the training accuracy is :- 0.9017603460127575\n",
      "\n",
      "\n",
      "At random state 56,the training accuracy is :- 0.8989109930720287\n",
      "At random state 56,the training accuracy is :- 0.8881081877827507\n",
      "\n",
      "\n",
      "At random state 57,the training accuracy is :- 0.8825580314985149\n",
      "At random state 57,the training accuracy is :- 0.9407051178510067\n",
      "\n",
      "\n",
      "At random state 58,the training accuracy is :- 0.912712289434702\n",
      "At random state 58,the training accuracy is :- 0.8406715244241626\n",
      "\n",
      "\n",
      "At random state 59,the training accuracy is :- 0.8893082812955636\n",
      "At random state 59,the training accuracy is :- 0.9251177591187608\n",
      "\n",
      "\n",
      "At random state 60,the training accuracy is :- 0.8924386252509565\n",
      "At random state 60,the training accuracy is :- 0.9099045150327533\n",
      "\n",
      "\n",
      "At random state 61,the training accuracy is :- 0.8993442759744174\n",
      "At random state 61,the training accuracy is :- 0.8801295028531633\n",
      "\n",
      "\n",
      "At random state 62,the training accuracy is :- 0.9119756650926772\n",
      "At random state 62,the training accuracy is :- 0.8417719904234857\n",
      "\n",
      "\n",
      "At random state 63,the training accuracy is :- 0.8947112911514465\n",
      "At random state 63,the training accuracy is :- 0.9039175428258769\n",
      "\n",
      "\n",
      "At random state 64,the training accuracy is :- 0.8977794992748884\n",
      "At random state 64,the training accuracy is :- 0.8818211467861733\n",
      "\n",
      "\n",
      "At random state 65,the training accuracy is :- 0.8969574133232423\n",
      "At random state 65,the training accuracy is :- 0.8941749859375303\n",
      "\n",
      "\n",
      "At random state 66,the training accuracy is :- 0.8985647494060172\n",
      "At random state 66,the training accuracy is :- 0.8898022957140044\n",
      "\n",
      "\n",
      "At random state 67,the training accuracy is :- 0.899436698387886\n",
      "At random state 67,the training accuracy is :- 0.8820468786272049\n",
      "\n",
      "\n",
      "At random state 68,the training accuracy is :- 0.9001781108442838\n",
      "At random state 68,the training accuracy is :- 0.869032140309382\n",
      "\n",
      "\n",
      "At random state 69,the training accuracy is :- 0.8870175330531669\n",
      "At random state 69,the training accuracy is :- 0.923927034148313\n",
      "\n",
      "\n",
      "At random state 70,the training accuracy is :- 0.886231243596853\n",
      "At random state 70,the training accuracy is :- 0.9260798727325857\n",
      "\n",
      "\n",
      "At random state 71,the training accuracy is :- 0.9163886175032457\n",
      "At random state 71,the training accuracy is :- 0.8246989403826483\n",
      "\n",
      "\n",
      "At random state 72,the training accuracy is :- 0.8937422087162026\n",
      "At random state 72,the training accuracy is :- 0.9072541868212964\n",
      "\n",
      "\n",
      "At random state 73,the training accuracy is :- 0.9077573496620701\n",
      "At random state 73,the training accuracy is :- 0.8412998907053816\n",
      "\n",
      "\n",
      "At random state 74,the training accuracy is :- 0.8979415340515895\n",
      "At random state 74,the training accuracy is :- 0.8806020302645324\n",
      "\n",
      "\n",
      "At random state 75,the training accuracy is :- 0.8943141208860873\n",
      "At random state 75,the training accuracy is :- 0.9077086876495712\n",
      "\n",
      "\n",
      "At random state 76,the training accuracy is :- 0.9092025789360757\n",
      "At random state 76,the training accuracy is :- 0.753517499473075\n",
      "\n",
      "\n",
      "At random state 77,the training accuracy is :- 0.8859758983122313\n",
      "At random state 77,the training accuracy is :- 0.937880163249318\n",
      "\n",
      "\n",
      "At random state 78,the training accuracy is :- 0.8957285947454089\n",
      "At random state 78,the training accuracy is :- 0.9026908232907813\n",
      "\n",
      "\n",
      "At random state 79,the training accuracy is :- 0.8917194183285055\n",
      "At random state 79,the training accuracy is :- 0.9047106228248688\n",
      "\n",
      "\n",
      "At random state 80,the training accuracy is :- 0.9161683973913906\n",
      "At random state 80,the training accuracy is :- 0.8070473986760942\n",
      "\n",
      "\n",
      "At random state 81,the training accuracy is :- 0.9033802332142854\n",
      "At random state 81,the training accuracy is :- 0.8620423894967141\n",
      "\n",
      "\n",
      "At random state 82,the training accuracy is :- 0.9154244887223795\n",
      "At random state 82,the training accuracy is :- 0.8014727140935161\n",
      "\n",
      "\n",
      "At random state 83,the training accuracy is :- 0.8840310976077721\n",
      "At random state 83,the training accuracy is :- 0.9373350368424965\n",
      "\n",
      "\n",
      "At random state 84,the training accuracy is :- 0.8951392078054551\n",
      "At random state 84,the training accuracy is :- 0.9007597814614811\n",
      "\n",
      "\n",
      "At random state 85,the training accuracy is :- 0.9086027174680293\n",
      "At random state 85,the training accuracy is :- 0.8439638394828848\n",
      "\n",
      "\n",
      "At random state 86,the training accuracy is :- 0.8941525565676501\n",
      "At random state 86,the training accuracy is :- 0.9100622221201642\n",
      "\n",
      "\n",
      "At random state 87,the training accuracy is :- 0.9118983221676124\n",
      "At random state 87,the training accuracy is :- 0.7626125810244506\n",
      "\n",
      "\n",
      "At random state 88,the training accuracy is :- 0.9095202869396248\n",
      "At random state 88,the training accuracy is :- 0.8402068643199274\n",
      "\n",
      "\n",
      "At random state 89,the training accuracy is :- 0.900006853668257\n",
      "At random state 89,the training accuracy is :- 0.8763063367531692\n",
      "\n",
      "\n",
      "At random state 90,the training accuracy is :- 0.9031056838494878\n",
      "At random state 90,the training accuracy is :- 0.8515399308497918\n",
      "\n",
      "\n",
      "At random state 91,the training accuracy is :- 0.8873766899072165\n",
      "At random state 91,the training accuracy is :- 0.9042137225502287\n",
      "\n",
      "\n",
      "At random state 92,the training accuracy is :- 0.8791722270470884\n",
      "At random state 92,the training accuracy is :- 0.9519707195109459\n",
      "\n",
      "\n",
      "At random state 93,the training accuracy is :- 0.8929605913041913\n",
      "At random state 93,the training accuracy is :- 0.9117655020936758\n",
      "\n",
      "\n",
      "At random state 94,the training accuracy is :- 0.9084398174091196\n",
      "At random state 94,the training accuracy is :- 0.8559316851679384\n",
      "\n",
      "\n",
      "At random state 95,the training accuracy is :- 0.8935659928494455\n",
      "At random state 95,the training accuracy is :- 0.8951810793790586\n",
      "\n",
      "\n",
      "At random state 96,the training accuracy is :- 0.9035998291188063\n",
      "At random state 96,the training accuracy is :- 0.8595641556662492\n",
      "\n",
      "\n",
      "At random state 97,the training accuracy is :- 0.8900751965631104\n",
      "At random state 97,the training accuracy is :- 0.9118128867084085\n",
      "\n",
      "\n",
      "At random state 98,the training accuracy is :- 0.8819661469883454\n",
      "At random state 98,the training accuracy is :- 0.9400331814664701\n",
      "\n",
      "\n",
      "At random state 99,the training accuracy is :- 0.8906288862925659\n",
      "At random state 99,the training accuracy is :- 0.9200846680148507\n",
      "\n",
      "\n"
     ]
    }
   ],
   "source": [
    "for i in range(0,100):\n",
    "    x_train,x_test,y_train,y_test=train_test_split(x,y,random_state=i,test_size=0.2)\n",
    "    lm.fit(x_train,y_train)\n",
    "    pred_train=lm.predict(x_train)\n",
    "    pred_test=lm.predict(x_test)\n",
    "    print(f'At random state {i},the training accuracy is :- {r2_score(y_train,pred_train)}')\n",
    "    print(f'At random state {i},the training accuracy is :- {r2_score(y_test,pred_test)}')\n",
    "    print('\\n')"
   ]
  },
  {
   "cell_type": "code",
   "execution_count": 261,
   "id": "e5241064",
   "metadata": {},
   "outputs": [],
   "source": [
    "x_train,x_test,y_train,y_test=train_test_split(x,y,random_state=99,test_size=0.2)"
   ]
  },
  {
   "cell_type": "code",
   "execution_count": 263,
   "id": "2db16f5e",
   "metadata": {},
   "outputs": [
    {
     "data": {
      "text/html": [
       "<style>#sk-container-id-3 {color: black;background-color: white;}#sk-container-id-3 pre{padding: 0;}#sk-container-id-3 div.sk-toggleable {background-color: white;}#sk-container-id-3 label.sk-toggleable__label {cursor: pointer;display: block;width: 100%;margin-bottom: 0;padding: 0.3em;box-sizing: border-box;text-align: center;}#sk-container-id-3 label.sk-toggleable__label-arrow:before {content: \"▸\";float: left;margin-right: 0.25em;color: #696969;}#sk-container-id-3 label.sk-toggleable__label-arrow:hover:before {color: black;}#sk-container-id-3 div.sk-estimator:hover label.sk-toggleable__label-arrow:before {color: black;}#sk-container-id-3 div.sk-toggleable__content {max-height: 0;max-width: 0;overflow: hidden;text-align: left;background-color: #f0f8ff;}#sk-container-id-3 div.sk-toggleable__content pre {margin: 0.2em;color: black;border-radius: 0.25em;background-color: #f0f8ff;}#sk-container-id-3 input.sk-toggleable__control:checked~div.sk-toggleable__content {max-height: 200px;max-width: 100%;overflow: auto;}#sk-container-id-3 input.sk-toggleable__control:checked~label.sk-toggleable__label-arrow:before {content: \"▾\";}#sk-container-id-3 div.sk-estimator input.sk-toggleable__control:checked~label.sk-toggleable__label {background-color: #d4ebff;}#sk-container-id-3 div.sk-label input.sk-toggleable__control:checked~label.sk-toggleable__label {background-color: #d4ebff;}#sk-container-id-3 input.sk-hidden--visually {border: 0;clip: rect(1px 1px 1px 1px);clip: rect(1px, 1px, 1px, 1px);height: 1px;margin: -1px;overflow: hidden;padding: 0;position: absolute;width: 1px;}#sk-container-id-3 div.sk-estimator {font-family: monospace;background-color: #f0f8ff;border: 1px dotted black;border-radius: 0.25em;box-sizing: border-box;margin-bottom: 0.5em;}#sk-container-id-3 div.sk-estimator:hover {background-color: #d4ebff;}#sk-container-id-3 div.sk-parallel-item::after {content: \"\";width: 100%;border-bottom: 1px solid gray;flex-grow: 1;}#sk-container-id-3 div.sk-label:hover label.sk-toggleable__label {background-color: #d4ebff;}#sk-container-id-3 div.sk-serial::before {content: \"\";position: absolute;border-left: 1px solid gray;box-sizing: border-box;top: 0;bottom: 0;left: 50%;z-index: 0;}#sk-container-id-3 div.sk-serial {display: flex;flex-direction: column;align-items: center;background-color: white;padding-right: 0.2em;padding-left: 0.2em;position: relative;}#sk-container-id-3 div.sk-item {position: relative;z-index: 1;}#sk-container-id-3 div.sk-parallel {display: flex;align-items: stretch;justify-content: center;background-color: white;position: relative;}#sk-container-id-3 div.sk-item::before, #sk-container-id-3 div.sk-parallel-item::before {content: \"\";position: absolute;border-left: 1px solid gray;box-sizing: border-box;top: 0;bottom: 0;left: 50%;z-index: -1;}#sk-container-id-3 div.sk-parallel-item {display: flex;flex-direction: column;z-index: 1;position: relative;background-color: white;}#sk-container-id-3 div.sk-parallel-item:first-child::after {align-self: flex-end;width: 50%;}#sk-container-id-3 div.sk-parallel-item:last-child::after {align-self: flex-start;width: 50%;}#sk-container-id-3 div.sk-parallel-item:only-child::after {width: 0;}#sk-container-id-3 div.sk-dashed-wrapped {border: 1px dashed gray;margin: 0 0.4em 0.5em 0.4em;box-sizing: border-box;padding-bottom: 0.4em;background-color: white;}#sk-container-id-3 div.sk-label label {font-family: monospace;font-weight: bold;display: inline-block;line-height: 1.2em;}#sk-container-id-3 div.sk-label-container {text-align: center;}#sk-container-id-3 div.sk-container {/* jupyter's `normalize.less` sets `[hidden] { display: none; }` but bootstrap.min.css set `[hidden] { display: none !important; }` so we also need the `!important` here to be able to override the default hidden behavior on the sphinx rendered scikit-learn.org. See: https://github.com/scikit-learn/scikit-learn/issues/21755 */display: inline-block !important;position: relative;}#sk-container-id-3 div.sk-text-repr-fallback {display: none;}</style><div id=\"sk-container-id-3\" class=\"sk-top-container\"><div class=\"sk-text-repr-fallback\"><pre>LinearRegression()</pre><b>In a Jupyter environment, please rerun this cell to show the HTML representation or trust the notebook. <br />On GitHub, the HTML representation is unable to render, please try loading this page with nbviewer.org.</b></div><div class=\"sk-container\" hidden><div class=\"sk-item\"><div class=\"sk-estimator sk-toggleable\"><input class=\"sk-toggleable__control sk-hidden--visually\" id=\"sk-estimator-id-3\" type=\"checkbox\" checked><label for=\"sk-estimator-id-3\" class=\"sk-toggleable__label sk-toggleable__label-arrow\">LinearRegression</label><div class=\"sk-toggleable__content\"><pre>LinearRegression()</pre></div></div></div></div></div>"
      ],
      "text/plain": [
       "LinearRegression()"
      ]
     },
     "execution_count": 263,
     "metadata": {},
     "output_type": "execute_result"
    }
   ],
   "source": [
    "# train the model\n",
    "\n",
    "lm.fit(x_train,y_train)"
   ]
  },
  {
   "cell_type": "code",
   "execution_count": 264,
   "id": "ccc3486b",
   "metadata": {},
   "outputs": [
    {
     "name": "stdout",
     "output_type": "stream",
     "text": [
      "0.9200846680148507\n"
     ]
    }
   ],
   "source": [
    "pred_test=lm.predict(x_test)\n",
    "print(r2_score(y_test,pred_test))"
   ]
  },
  {
   "cell_type": "markdown",
   "id": "b8627c0f",
   "metadata": {},
   "source": [
    "# Cross_Validation of the model"
   ]
  },
  {
   "cell_type": "code",
   "execution_count": 265,
   "id": "6fb0999e",
   "metadata": {},
   "outputs": [
    {
     "name": "stdout",
     "output_type": "stream",
     "text": [
      "At cross fold2 the cv score is 0.8908473589845056 and accuracy score for training is 0.8906288862925659 and accuracy for testing is 0.9200846680148507\n",
      "\n",
      "\n",
      "At cross fold3 the cv score is 0.8916464591145559 and accuracy score for training is 0.8906288862925659 and accuracy for testing is 0.9200846680148507\n",
      "\n",
      "\n",
      "At cross fold4 the cv score is 0.8900070660549507 and accuracy score for training is 0.8906288862925659 and accuracy for testing is 0.9200846680148507\n",
      "\n",
      "\n",
      "At cross fold5 the cv score is 0.8871063495438436 and accuracy score for training is 0.8906288862925659 and accuracy for testing is 0.9200846680148507\n",
      "\n",
      "\n",
      "At cross fold6 the cv score is 0.8899208882186672 and accuracy score for training is 0.8906288862925659 and accuracy for testing is 0.9200846680148507\n",
      "\n",
      "\n",
      "At cross fold7 the cv score is 0.8859930219823539 and accuracy score for training is 0.8906288862925659 and accuracy for testing is 0.9200846680148507\n",
      "\n",
      "\n",
      "At cross fold8 the cv score is 0.8826686689919152 and accuracy score for training is 0.8906288862925659 and accuracy for testing is 0.9200846680148507\n",
      "\n",
      "\n",
      "At cross fold9 the cv score is 0.8822728227103587 and accuracy score for training is 0.8906288862925659 and accuracy for testing is 0.9200846680148507\n",
      "\n",
      "\n"
     ]
    }
   ],
   "source": [
    "train_accuracy=r2_score(y_train,pred_train)\n",
    "test_accuracy=r2_score(y_test,pred_test)\n",
    "\n",
    "from sklearn.model_selection import cross_val_score\n",
    "\n",
    "for j in range(2,10):\n",
    "    cv_score=cross_val_score(lm,x,y,cv=j)\n",
    "    cv_mean=cv_score.mean()\n",
    "    print(f'At cross fold{j} the cv score is {cv_mean} and accuracy score for training is {train_accuracy} and accuracy for testing is {test_accuracy}')\n",
    "    print('\\n')"
   ]
  },
  {
   "cell_type": "markdown",
   "id": "4a8ffaa2",
   "metadata": {},
   "source": [
    "Since the number of folds don't have such impact on the accuracy and cv_score . so cv=3 is selected\n",
    "\n",
    "\n",
    "here we have handled the problem of the overfitting and the underfitting by checking the training and testing score "
   ]
  },
  {
   "cell_type": "code",
   "execution_count": 267,
   "id": "428d2d12",
   "metadata": {},
   "outputs": [
    {
     "data": {
      "image/png": "[encoded data removed]",
      "text/plain": [
       "<Figure size 576x432 with 1 Axes>"
      ]
     },
     "metadata": {
      "needs_background": "light"
     },
     "output_type": "display_data"
    }
   ],
   "source": [
    "plt.figure(figsize=(8,6))\n",
    "plt.scatter(x=y_test,y=pred_test,color='r')\n",
    "plt.plot(y_test,y_test,color='b')\n",
    "plt.xlabel('Actual price',fontsize=14)\n",
    "plt.ylabel('predicated price',fontsize=14)\n",
    "plt.title('Linear Regression',fontsize=18)\n",
    "plt.savefig('lm.png')\n",
    "plt.show()\n"
   ]
  },
  {
   "cell_type": "markdown",
   "id": "4ab6a901",
   "metadata": {},
   "source": [
    "Best fit line is covreing most of the datapoint which shows good fit of our model "
   ]
  },
  {
   "cell_type": "markdown",
   "id": "39067636",
   "metadata": {},
   "source": [
    "# Regularization"
   ]
  },
  {
   "cell_type": "code",
   "execution_count": 278,
   "id": "e2f943d1",
   "metadata": {},
   "outputs": [],
   "source": [
    "from sklearn.model_selection import GridSearchCV\n",
    "from sklearn.model_selection import cross_val_score\n",
    "from sklearn.linear_model import Lasso,Ridge\n",
    "\n"
   ]
  },
  {
   "cell_type": "code",
   "execution_count": 283,
   "id": "dbff75e6",
   "metadata": {},
   "outputs": [
    {
     "name": "stdout",
     "output_type": "stream",
     "text": [
      "{'alpha': 0.1, 'random_state': 0}\n"
     ]
    }
   ],
   "source": [
    "from sklearn.linear_model import Lasso\n",
    "\n",
    "\n",
    "Parameters = {'alpha':[.0001,.001,.01,.1,10],\n",
    "             'random_state':list(range(0,10))}\n",
    "ls=Lasso()\n",
    "clf=GridSearchCV(ls,Parameters)\n",
    "clf.fit(x_train,y_train)\n",
    "\n",
    "print(clf.best_params_)"
   ]
  },
  {
   "cell_type": "code",
   "execution_count": 285,
   "id": "e0cdd6dd",
   "metadata": {},
   "outputs": [
    {
     "data": {
      "text/plain": [
       "89.06270347881475"
      ]
     },
     "execution_count": 285,
     "metadata": {},
     "output_type": "execute_result"
    }
   ],
   "source": [
    "# final model training\n",
    "\n",
    "ls = Lasso(alpha=0.1)\n",
    "ls.fit(x_train,y_train)\n",
    "ls_score_training=ls.score(x_train,y_train)\n",
    "pred_ls=ls.predict(x_test)\n",
    "ls_score_training*100"
   ]
  },
  {
   "cell_type": "code",
   "execution_count": 286,
   "id": "e629ba2d",
   "metadata": {},
   "outputs": [
    {
     "data": {
      "text/plain": [
       "92.01273051616262"
      ]
     },
     "execution_count": 286,
     "metadata": {},
     "output_type": "execute_result"
    }
   ],
   "source": [
    "pred_ls=ls.predict(x_test)\n",
    "lss=r2_score(y_test,pred_ls)\n",
    "lss*100"
   ]
  },
  {
   "cell_type": "code",
   "execution_count": 287,
   "id": "57464470",
   "metadata": {},
   "outputs": [
    {
     "data": {
      "text/plain": [
       "89.1743694859938"
      ]
     },
     "execution_count": 287,
     "metadata": {},
     "output_type": "execute_result"
    }
   ],
   "source": [
    "cv_score=cross_val_score(ls,x,y,cv=3)\n",
    "cv_mean=cv_score.mean()\n",
    "cv_mean*100"
   ]
  },
  {
   "cell_type": "markdown",
   "id": "0706cf0b",
   "metadata": {},
   "source": [
    "# Ensemble Technique"
   ]
  },
  {
   "cell_type": "code",
   "execution_count": 289,
   "id": "ca4a73f5",
   "metadata": {},
   "outputs": [],
   "source": [
    "from sklearn.ensemble import RandomForestRegressor"
   ]
  },
  {
   "cell_type": "code",
   "execution_count": 291,
   "id": "3d7d62e0",
   "metadata": {},
   "outputs": [
    {
     "name": "stdout",
     "output_type": "stream",
     "text": [
      "{'criterion': 'mse', 'max_features': 'auto'}\n"
     ]
    }
   ],
   "source": [
    "Parameters = {'criterion':['mse','mae'],\n",
    "             'max_features':['auto','sqrt','log2']}\n",
    "rf=RandomForestRegressor()\n",
    "clf=GridSearchCV(rf,Parameters)\n",
    "clf.fit(x_train,y_train)\n",
    "\n",
    "print(clf.best_params_)"
   ]
  },
  {
   "cell_type": "code",
   "execution_count": 298,
   "id": "5d7d7e8d",
   "metadata": {},
   "outputs": [
    {
     "name": "stdout",
     "output_type": "stream",
     "text": [
      "r2 score: 98.53175028575217\n",
      "cross_val_score= 97.20727972836517\n"
     ]
    }
   ],
   "source": [
    "rf = RandomForestRegressor(criterion='mse',max_features='auto')\n",
    "rf.fit(x_train,y_train)\n",
    "training_r2=rf.score(x_train,y_train)\n",
    "pred_decision=rf.predict(x_test)\n",
    "rfs=r2_score(y_test,pred_decision)\n",
    "print('r2 score:',rfs*100)\n",
    "\n",
    "\n",
    "rfscore=cross_val_score(rf,x,y,cv=2)\n",
    "\n",
    "rfc = rfscore.mean()\n",
    "print('cross_val_score=',rfc*100)"
   ]
  },
  {
   "cell_type": "markdown",
   "id": "a2c7ce48",
   "metadata": {},
   "source": [
    "We are getting model accuracy and cross validation both are 97.2% which shows our model is performing is extremely well"
   ]
  },
  {
   "cell_type": "code",
   "execution_count": 300,
   "id": "89fd4ef3",
   "metadata": {},
   "outputs": [],
   "source": [
    "import pickle"
   ]
  },
  {
   "cell_type": "code",
   "execution_count": 301,
   "id": "fd32e6d6",
   "metadata": {},
   "outputs": [],
   "source": [
    "filename='Total_sales.pkl'\n",
    "pickle.dump(rf,open(filename,'wb'))"
   ]
  },
  {
   "cell_type": "markdown",
   "id": "4571fe82",
   "metadata": {},
   "source": [
    "# conclusion:"
   ]
  },
  {
   "cell_type": "code",
   "execution_count": 303,
   "id": "670cf774",
   "metadata": {},
   "outputs": [
    {
     "name": "stdout",
     "output_type": "stream",
     "text": [
      "98.53175028575217\n"
     ]
    }
   ],
   "source": [
    "loaded_model=pickle.load(open('Total_sales.pkl','rb'))\n",
    "result=loaded_model.score(x_test,y_test)\n",
    "print(result*100)"
   ]
  },
  {
   "cell_type": "code",
   "execution_count": 305,
   "id": "0b813f4f",
   "metadata": {},
   "outputs": [],
   "source": [
    "conclusion=pd.DataFrame([loaded_model.predict(x_test)[:],pred_decision[:]],index=['Predicted','original'])"
   ]
  },
  {
   "cell_type": "code",
   "execution_count": 306,
   "id": "926bfb40",
   "metadata": {},
   "outputs": [
    {
     "data": {
      "text/html": [
       "<div>\n",
       "<style scoped>\n",
       "    .dataframe tbody tr th:only-of-type {\n",
       "        vertical-align: middle;\n",
       "    }\n",
       "\n",
       "    .dataframe tbody tr th {\n",
       "        vertical-align: top;\n",
       "    }\n",
       "\n",
       "    .dataframe thead th {\n",
       "        text-align: right;\n",
       "    }\n",
       "</style>\n",
       "<table border=\"1\" class=\"dataframe\">\n",
       "  <thead>\n",
       "    <tr style=\"text-align: right;\">\n",
       "      <th></th>\n",
       "      <th>0</th>\n",
       "      <th>1</th>\n",
       "      <th>2</th>\n",
       "      <th>3</th>\n",
       "      <th>4</th>\n",
       "      <th>5</th>\n",
       "      <th>6</th>\n",
       "      <th>7</th>\n",
       "      <th>8</th>\n",
       "      <th>9</th>\n",
       "      <th>...</th>\n",
       "      <th>30</th>\n",
       "      <th>31</th>\n",
       "      <th>32</th>\n",
       "      <th>33</th>\n",
       "      <th>34</th>\n",
       "      <th>35</th>\n",
       "      <th>36</th>\n",
       "      <th>37</th>\n",
       "      <th>38</th>\n",
       "      <th>39</th>\n",
       "    </tr>\n",
       "  </thead>\n",
       "  <tbody>\n",
       "    <tr>\n",
       "      <th>Predicted</th>\n",
       "      <td>11.534</td>\n",
       "      <td>9.163</td>\n",
       "      <td>10.213</td>\n",
       "      <td>8.413</td>\n",
       "      <td>7.089</td>\n",
       "      <td>22.556</td>\n",
       "      <td>12.209</td>\n",
       "      <td>25.337</td>\n",
       "      <td>6.238</td>\n",
       "      <td>17.874</td>\n",
       "      <td>...</td>\n",
       "      <td>11.466</td>\n",
       "      <td>25.167</td>\n",
       "      <td>18.56</td>\n",
       "      <td>12.089</td>\n",
       "      <td>10.483</td>\n",
       "      <td>14.795</td>\n",
       "      <td>13.059</td>\n",
       "      <td>16.771</td>\n",
       "      <td>11.788</td>\n",
       "      <td>8.723</td>\n",
       "    </tr>\n",
       "    <tr>\n",
       "      <th>original</th>\n",
       "      <td>11.534</td>\n",
       "      <td>9.163</td>\n",
       "      <td>10.213</td>\n",
       "      <td>8.413</td>\n",
       "      <td>7.089</td>\n",
       "      <td>22.556</td>\n",
       "      <td>12.209</td>\n",
       "      <td>25.337</td>\n",
       "      <td>6.238</td>\n",
       "      <td>17.874</td>\n",
       "      <td>...</td>\n",
       "      <td>11.466</td>\n",
       "      <td>25.167</td>\n",
       "      <td>18.56</td>\n",
       "      <td>12.089</td>\n",
       "      <td>10.483</td>\n",
       "      <td>14.795</td>\n",
       "      <td>13.059</td>\n",
       "      <td>16.771</td>\n",
       "      <td>11.788</td>\n",
       "      <td>8.723</td>\n",
       "    </tr>\n",
       "  </tbody>\n",
       "</table>\n",
       "<p>2 rows × 40 columns</p>\n",
       "</div>"
      ],
      "text/plain": [
       "               0      1       2      3      4       5       6       7      8   \\\n",
       "Predicted  11.534  9.163  10.213  8.413  7.089  22.556  12.209  25.337  6.238   \n",
       "original   11.534  9.163  10.213  8.413  7.089  22.556  12.209  25.337  6.238   \n",
       "\n",
       "               9   ...      30      31     32      33      34      35      36  \\\n",
       "Predicted  17.874  ...  11.466  25.167  18.56  12.089  10.483  14.795  13.059   \n",
       "original   17.874  ...  11.466  25.167  18.56  12.089  10.483  14.795  13.059   \n",
       "\n",
       "               37      38     39  \n",
       "Predicted  16.771  11.788  8.723  \n",
       "original   16.771  11.788  8.723  \n",
       "\n",
       "[2 rows x 40 columns]"
      ]
     },
     "execution_count": 306,
     "metadata": {},
     "output_type": "execute_result"
    }
   ],
   "source": [
    "conclusion"
   ]
  },
  {
   "cell_type": "code",
   "execution_count": null,
   "id": "8e15252e",
   "metadata": {},
   "outputs": [],
   "source": []
  }
 ],
 "metadata": {
  "kernelspec": {
   "display_name": "Python 3 (ipykernel)",
   "language": "python",
   "name": "python3"
  },
  "language_info": {
   "codemirror_mode": {
    "name": "ipython",
    "version": 3
   },
   "file_extension": ".py",
   "mimetype": "text/x-python",
   "name": "python",
   "nbconvert_exporter": "python",
   "pygments_lexer": "ipython3",
   "version": "3.9.7"
  }
 },
 "nbformat": 4,
 "nbformat_minor": 5
}
