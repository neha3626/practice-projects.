{
 "cells": [
  {
   "cell_type": "code",
   "execution_count": 9,
   "id": "e7b09478",
   "metadata": {},
   "outputs": [],
   "source": [
    "import pandas as pd\n",
    "import numpy as np"
   ]
  },
  {
   "cell_type": "code",
   "execution_count": 16,
   "id": "2471ad4c",
   "metadata": {},
   "outputs": [],
   "source": [
    "df=pd.read_csv('https://raw.githubusercontent.com/dsrscientist/dataset3/main/Salaries.csv')"
   ]
  },
  {
   "cell_type": "code",
   "execution_count": 17,
   "id": "b85244b1",
   "metadata": {},
   "outputs": [
    {
     "data": {
      "text/html": [
       "<div>\n",
       "<style scoped>\n",
       "    .dataframe tbody tr th:only-of-type {\n",
       "        vertical-align: middle;\n",
       "    }\n",
       "\n",
       "    .dataframe tbody tr th {\n",
       "        vertical-align: top;\n",
       "    }\n",
       "\n",
       "    .dataframe thead th {\n",
       "        text-align: right;\n",
       "    }\n",
       "</style>\n",
       "<table border=\"1\" class=\"dataframe\">\n",
       "  <thead>\n",
       "    <tr style=\"text-align: right;\">\n",
       "      <th></th>\n",
       "      <th>rank</th>\n",
       "      <th>discipline</th>\n",
       "      <th>yrs.since.phd</th>\n",
       "      <th>yrs.service</th>\n",
       "      <th>sex</th>\n",
       "      <th>salary</th>\n",
       "    </tr>\n",
       "  </thead>\n",
       "  <tbody>\n",
       "    <tr>\n",
       "      <th>0</th>\n",
       "      <td>Prof</td>\n",
       "      <td>B</td>\n",
       "      <td>19</td>\n",
       "      <td>18</td>\n",
       "      <td>Male</td>\n",
       "      <td>139750</td>\n",
       "    </tr>\n",
       "    <tr>\n",
       "      <th>1</th>\n",
       "      <td>Prof</td>\n",
       "      <td>B</td>\n",
       "      <td>20</td>\n",
       "      <td>16</td>\n",
       "      <td>Male</td>\n",
       "      <td>173200</td>\n",
       "    </tr>\n",
       "    <tr>\n",
       "      <th>2</th>\n",
       "      <td>AsstProf</td>\n",
       "      <td>B</td>\n",
       "      <td>4</td>\n",
       "      <td>3</td>\n",
       "      <td>Male</td>\n",
       "      <td>79750</td>\n",
       "    </tr>\n",
       "    <tr>\n",
       "      <th>3</th>\n",
       "      <td>Prof</td>\n",
       "      <td>B</td>\n",
       "      <td>45</td>\n",
       "      <td>39</td>\n",
       "      <td>Male</td>\n",
       "      <td>115000</td>\n",
       "    </tr>\n",
       "    <tr>\n",
       "      <th>4</th>\n",
       "      <td>Prof</td>\n",
       "      <td>B</td>\n",
       "      <td>40</td>\n",
       "      <td>41</td>\n",
       "      <td>Male</td>\n",
       "      <td>141500</td>\n",
       "    </tr>\n",
       "    <tr>\n",
       "      <th>...</th>\n",
       "      <td>...</td>\n",
       "      <td>...</td>\n",
       "      <td>...</td>\n",
       "      <td>...</td>\n",
       "      <td>...</td>\n",
       "      <td>...</td>\n",
       "    </tr>\n",
       "    <tr>\n",
       "      <th>392</th>\n",
       "      <td>Prof</td>\n",
       "      <td>A</td>\n",
       "      <td>33</td>\n",
       "      <td>30</td>\n",
       "      <td>Male</td>\n",
       "      <td>103106</td>\n",
       "    </tr>\n",
       "    <tr>\n",
       "      <th>393</th>\n",
       "      <td>Prof</td>\n",
       "      <td>A</td>\n",
       "      <td>31</td>\n",
       "      <td>19</td>\n",
       "      <td>Male</td>\n",
       "      <td>150564</td>\n",
       "    </tr>\n",
       "    <tr>\n",
       "      <th>394</th>\n",
       "      <td>Prof</td>\n",
       "      <td>A</td>\n",
       "      <td>42</td>\n",
       "      <td>25</td>\n",
       "      <td>Male</td>\n",
       "      <td>101738</td>\n",
       "    </tr>\n",
       "    <tr>\n",
       "      <th>395</th>\n",
       "      <td>Prof</td>\n",
       "      <td>A</td>\n",
       "      <td>25</td>\n",
       "      <td>15</td>\n",
       "      <td>Male</td>\n",
       "      <td>95329</td>\n",
       "    </tr>\n",
       "    <tr>\n",
       "      <th>396</th>\n",
       "      <td>AsstProf</td>\n",
       "      <td>A</td>\n",
       "      <td>8</td>\n",
       "      <td>4</td>\n",
       "      <td>Male</td>\n",
       "      <td>81035</td>\n",
       "    </tr>\n",
       "  </tbody>\n",
       "</table>\n",
       "<p>397 rows × 6 columns</p>\n",
       "</div>"
      ],
      "text/plain": [
       "         rank discipline  yrs.since.phd  yrs.service   sex  salary\n",
       "0        Prof          B             19           18  Male  139750\n",
       "1        Prof          B             20           16  Male  173200\n",
       "2    AsstProf          B              4            3  Male   79750\n",
       "3        Prof          B             45           39  Male  115000\n",
       "4        Prof          B             40           41  Male  141500\n",
       "..        ...        ...            ...          ...   ...     ...\n",
       "392      Prof          A             33           30  Male  103106\n",
       "393      Prof          A             31           19  Male  150564\n",
       "394      Prof          A             42           25  Male  101738\n",
       "395      Prof          A             25           15  Male   95329\n",
       "396  AsstProf          A              8            4  Male   81035\n",
       "\n",
       "[397 rows x 6 columns]"
      ]
     },
     "execution_count": 17,
     "metadata": {},
     "output_type": "execute_result"
    }
   ],
   "source": [
    "df"
   ]
  },
  {
   "cell_type": "code",
   "execution_count": 18,
   "id": "e5f7013a",
   "metadata": {},
   "outputs": [
    {
     "data": {
      "text/plain": [
       "Index(['rank', 'discipline', 'yrs.since.phd', 'yrs.service', 'sex', 'salary'], dtype='object')"
      ]
     },
     "execution_count": 18,
     "metadata": {},
     "output_type": "execute_result"
    }
   ],
   "source": [
    "df.columns"
   ]
  },
  {
   "cell_type": "code",
   "execution_count": 19,
   "id": "bb476fa3",
   "metadata": {},
   "outputs": [
    {
     "data": {
      "text/html": [
       "<div>\n",
       "<style scoped>\n",
       "    .dataframe tbody tr th:only-of-type {\n",
       "        vertical-align: middle;\n",
       "    }\n",
       "\n",
       "    .dataframe tbody tr th {\n",
       "        vertical-align: top;\n",
       "    }\n",
       "\n",
       "    .dataframe thead th {\n",
       "        text-align: right;\n",
       "    }\n",
       "</style>\n",
       "<table border=\"1\" class=\"dataframe\">\n",
       "  <thead>\n",
       "    <tr style=\"text-align: right;\">\n",
       "      <th></th>\n",
       "      <th>rank</th>\n",
       "      <th>discipline</th>\n",
       "      <th>yrs.since.phd</th>\n",
       "      <th>yrs.service</th>\n",
       "      <th>sex</th>\n",
       "      <th>salary</th>\n",
       "    </tr>\n",
       "  </thead>\n",
       "  <tbody>\n",
       "    <tr>\n",
       "      <th>0</th>\n",
       "      <td>Prof</td>\n",
       "      <td>B</td>\n",
       "      <td>19</td>\n",
       "      <td>18</td>\n",
       "      <td>Male</td>\n",
       "      <td>139750</td>\n",
       "    </tr>\n",
       "    <tr>\n",
       "      <th>1</th>\n",
       "      <td>Prof</td>\n",
       "      <td>B</td>\n",
       "      <td>20</td>\n",
       "      <td>16</td>\n",
       "      <td>Male</td>\n",
       "      <td>173200</td>\n",
       "    </tr>\n",
       "    <tr>\n",
       "      <th>2</th>\n",
       "      <td>AsstProf</td>\n",
       "      <td>B</td>\n",
       "      <td>4</td>\n",
       "      <td>3</td>\n",
       "      <td>Male</td>\n",
       "      <td>79750</td>\n",
       "    </tr>\n",
       "    <tr>\n",
       "      <th>3</th>\n",
       "      <td>Prof</td>\n",
       "      <td>B</td>\n",
       "      <td>45</td>\n",
       "      <td>39</td>\n",
       "      <td>Male</td>\n",
       "      <td>115000</td>\n",
       "    </tr>\n",
       "    <tr>\n",
       "      <th>4</th>\n",
       "      <td>Prof</td>\n",
       "      <td>B</td>\n",
       "      <td>40</td>\n",
       "      <td>41</td>\n",
       "      <td>Male</td>\n",
       "      <td>141500</td>\n",
       "    </tr>\n",
       "  </tbody>\n",
       "</table>\n",
       "</div>"
      ],
      "text/plain": [
       "       rank discipline  yrs.since.phd  yrs.service   sex  salary\n",
       "0      Prof          B             19           18  Male  139750\n",
       "1      Prof          B             20           16  Male  173200\n",
       "2  AsstProf          B              4            3  Male   79750\n",
       "3      Prof          B             45           39  Male  115000\n",
       "4      Prof          B             40           41  Male  141500"
      ]
     },
     "execution_count": 19,
     "metadata": {},
     "output_type": "execute_result"
    }
   ],
   "source": [
    "df.head()"
   ]
  },
  {
   "cell_type": "markdown",
   "id": "183393cf",
   "metadata": {},
   "source": [
    "# checking null values in the dataframe"
   ]
  },
  {
   "cell_type": "code",
   "execution_count": 22,
   "id": "de544dcc",
   "metadata": {},
   "outputs": [
    {
     "data": {
      "text/plain": [
       "rank             0\n",
       "discipline       0\n",
       "yrs.since.phd    0\n",
       "yrs.service      0\n",
       "sex              0\n",
       "salary           0\n",
       "dtype: int64"
      ]
     },
     "execution_count": 22,
     "metadata": {},
     "output_type": "execute_result"
    }
   ],
   "source": [
    "df.isnull().sum()"
   ]
  },
  {
   "cell_type": "markdown",
   "id": "ef63d23e",
   "metadata": {},
   "source": [
    "# checking the datadtypes of the columns"
   ]
  },
  {
   "cell_type": "code",
   "execution_count": 24,
   "id": "74e148d4",
   "metadata": {},
   "outputs": [
    {
     "data": {
      "text/plain": [
       "rank             object\n",
       "discipline       object\n",
       "yrs.since.phd     int64\n",
       "yrs.service       int64\n",
       "sex              object\n",
       "salary            int64\n",
       "dtype: object"
      ]
     },
     "execution_count": 24,
     "metadata": {},
     "output_type": "execute_result"
    }
   ],
   "source": [
    "df.dtypes"
   ]
  },
  {
   "cell_type": "code",
   "execution_count": 25,
   "id": "db31a227",
   "metadata": {},
   "outputs": [
    {
     "data": {
      "text/plain": [
       "397"
      ]
     },
     "execution_count": 25,
     "metadata": {},
     "output_type": "execute_result"
    }
   ],
   "source": [
    "df.shape[0]"
   ]
  },
  {
   "cell_type": "code",
   "execution_count": 26,
   "id": "6e968069",
   "metadata": {},
   "outputs": [
    {
     "data": {
      "text/plain": [
       "6"
      ]
     },
     "execution_count": 26,
     "metadata": {},
     "output_type": "execute_result"
    }
   ],
   "source": [
    "df.shape[1]"
   ]
  },
  {
   "cell_type": "markdown",
   "id": "a5fe1164",
   "metadata": {},
   "source": [
    "# Checking white space prasent or not"
   ]
  },
  {
   "cell_type": "code",
   "execution_count": 28,
   "id": "26e722f2",
   "metadata": {},
   "outputs": [
    {
     "data": {
      "text/html": [
       "<div>\n",
       "<style scoped>\n",
       "    .dataframe tbody tr th:only-of-type {\n",
       "        vertical-align: middle;\n",
       "    }\n",
       "\n",
       "    .dataframe tbody tr th {\n",
       "        vertical-align: top;\n",
       "    }\n",
       "\n",
       "    .dataframe thead th {\n",
       "        text-align: right;\n",
       "    }\n",
       "</style>\n",
       "<table border=\"1\" class=\"dataframe\">\n",
       "  <thead>\n",
       "    <tr style=\"text-align: right;\">\n",
       "      <th></th>\n",
       "      <th>rank</th>\n",
       "      <th>discipline</th>\n",
       "      <th>yrs.since.phd</th>\n",
       "      <th>yrs.service</th>\n",
       "      <th>sex</th>\n",
       "      <th>salary</th>\n",
       "    </tr>\n",
       "  </thead>\n",
       "  <tbody>\n",
       "  </tbody>\n",
       "</table>\n",
       "</div>"
      ],
      "text/plain": [
       "Empty DataFrame\n",
       "Columns: [rank, discipline, yrs.since.phd, yrs.service, sex, salary]\n",
       "Index: []"
      ]
     },
     "execution_count": 28,
     "metadata": {},
     "output_type": "execute_result"
    }
   ],
   "source": [
    "df.loc[df['salary']==\" \"]"
   ]
  },
  {
   "cell_type": "markdown",
   "id": "df894342",
   "metadata": {},
   "source": [
    "# Making DataFrame for the Normal data"
   ]
  },
  {
   "cell_type": "code",
   "execution_count": 30,
   "id": "54297543",
   "metadata": {},
   "outputs": [],
   "source": [
    "df_visualization_nominal=df[['rank','discipline','sex']].copy()"
   ]
  },
  {
   "cell_type": "code",
   "execution_count": 31,
   "id": "78812545",
   "metadata": {},
   "outputs": [
    {
     "data": {
      "text/plain": [
       "Index(['rank', 'discipline', 'sex'], dtype='object')"
      ]
     },
     "execution_count": 31,
     "metadata": {},
     "output_type": "execute_result"
    }
   ],
   "source": [
    "df_visualization_nominal.columns"
   ]
  },
  {
   "cell_type": "markdown",
   "id": "ecc0d5fe",
   "metadata": {},
   "source": [
    "# Visualization of the data"
   ]
  },
  {
   "cell_type": "code",
   "execution_count": 32,
   "id": "1fc72b91",
   "metadata": {},
   "outputs": [],
   "source": [
    "import seaborn as sns"
   ]
  },
  {
   "cell_type": "code",
   "execution_count": 37,
   "id": "54ba23b4",
   "metadata": {},
   "outputs": [
    {
     "name": "stdout",
     "output_type": "stream",
     "text": [
      "Prof         266\n",
      "AsstProf      67\n",
      "AssocProf     64\n",
      "Name: rank, dtype: int64\n"
     ]
    },
    {
     "data": {
      "image/png": "[encoded data removed]",
      "text/plain": [
       "<Figure size 432x288 with 1 Axes>"
      ]
     },
     "metadata": {
      "needs_background": "light"
     },
     "output_type": "display_data"
    }
   ],
   "source": [
    "ax = sns.countplot(x=\"rank\",data=df_visualization_nominal)\n",
    "print(df_visualization_nominal[\"rank\"].value_counts())"
   ]
  },
  {
   "cell_type": "code",
   "execution_count": 38,
   "id": "8de622c2",
   "metadata": {},
   "outputs": [
    {
     "name": "stdout",
     "output_type": "stream",
     "text": [
      "B    216\n",
      "A    181\n",
      "Name: discipline, dtype: int64\n"
     ]
    },
    {
     "data": {
      "image/png": "[encoded data removed]",
      "text/plain": [
       "<Figure size 432x288 with 1 Axes>"
      ]
     },
     "metadata": {
      "needs_background": "light"
     },
     "output_type": "display_data"
    }
   ],
   "source": [
    "ax = sns.countplot(x=\"discipline\",data=df_visualization_nominal)\n",
    "print(df_visualization_nominal[\"discipline\"].value_counts())"
   ]
  },
  {
   "cell_type": "code",
   "execution_count": 39,
   "id": "204ad62d",
   "metadata": {},
   "outputs": [
    {
     "name": "stdout",
     "output_type": "stream",
     "text": [
      "Male      358\n",
      "Female     39\n",
      "Name: sex, dtype: int64\n"
     ]
    },
    {
     "data": {
      "image/png": "[encoded data removed]",
      "text/plain": [
       "<Figure size 432x288 with 1 Axes>"
      ]
     },
     "metadata": {
      "needs_background": "light"
     },
     "output_type": "display_data"
    }
   ],
   "source": [
    "ax = sns.countplot(x=\"sex\",data=df_visualization_nominal)\n",
    "print(df_visualization_nominal[\"sex\"].value_counts())"
   ]
  },
  {
   "cell_type": "code",
   "execution_count": 42,
   "id": "f49c1352",
   "metadata": {},
   "outputs": [
    {
     "data": {
      "text/html": [
       "<div>\n",
       "<style scoped>\n",
       "    .dataframe tbody tr th:only-of-type {\n",
       "        vertical-align: middle;\n",
       "    }\n",
       "\n",
       "    .dataframe tbody tr th {\n",
       "        vertical-align: top;\n",
       "    }\n",
       "\n",
       "    .dataframe thead th {\n",
       "        text-align: right;\n",
       "    }\n",
       "</style>\n",
       "<table border=\"1\" class=\"dataframe\">\n",
       "  <thead>\n",
       "    <tr style=\"text-align: right;\">\n",
       "      <th></th>\n",
       "      <th>rank</th>\n",
       "      <th>discipline</th>\n",
       "      <th>yrs.since.phd</th>\n",
       "      <th>yrs.service</th>\n",
       "      <th>sex</th>\n",
       "      <th>salary</th>\n",
       "    </tr>\n",
       "  </thead>\n",
       "  <tbody>\n",
       "    <tr>\n",
       "      <th>0</th>\n",
       "      <td>Prof</td>\n",
       "      <td>B</td>\n",
       "      <td>19</td>\n",
       "      <td>18</td>\n",
       "      <td>Male</td>\n",
       "      <td>139750</td>\n",
       "    </tr>\n",
       "    <tr>\n",
       "      <th>1</th>\n",
       "      <td>Prof</td>\n",
       "      <td>B</td>\n",
       "      <td>20</td>\n",
       "      <td>16</td>\n",
       "      <td>Male</td>\n",
       "      <td>173200</td>\n",
       "    </tr>\n",
       "    <tr>\n",
       "      <th>2</th>\n",
       "      <td>AsstProf</td>\n",
       "      <td>B</td>\n",
       "      <td>4</td>\n",
       "      <td>3</td>\n",
       "      <td>Male</td>\n",
       "      <td>79750</td>\n",
       "    </tr>\n",
       "    <tr>\n",
       "      <th>3</th>\n",
       "      <td>Prof</td>\n",
       "      <td>B</td>\n",
       "      <td>45</td>\n",
       "      <td>39</td>\n",
       "      <td>Male</td>\n",
       "      <td>115000</td>\n",
       "    </tr>\n",
       "    <tr>\n",
       "      <th>4</th>\n",
       "      <td>Prof</td>\n",
       "      <td>B</td>\n",
       "      <td>40</td>\n",
       "      <td>41</td>\n",
       "      <td>Male</td>\n",
       "      <td>141500</td>\n",
       "    </tr>\n",
       "    <tr>\n",
       "      <th>...</th>\n",
       "      <td>...</td>\n",
       "      <td>...</td>\n",
       "      <td>...</td>\n",
       "      <td>...</td>\n",
       "      <td>...</td>\n",
       "      <td>...</td>\n",
       "    </tr>\n",
       "    <tr>\n",
       "      <th>392</th>\n",
       "      <td>Prof</td>\n",
       "      <td>A</td>\n",
       "      <td>33</td>\n",
       "      <td>30</td>\n",
       "      <td>Male</td>\n",
       "      <td>103106</td>\n",
       "    </tr>\n",
       "    <tr>\n",
       "      <th>393</th>\n",
       "      <td>Prof</td>\n",
       "      <td>A</td>\n",
       "      <td>31</td>\n",
       "      <td>19</td>\n",
       "      <td>Male</td>\n",
       "      <td>150564</td>\n",
       "    </tr>\n",
       "    <tr>\n",
       "      <th>394</th>\n",
       "      <td>Prof</td>\n",
       "      <td>A</td>\n",
       "      <td>42</td>\n",
       "      <td>25</td>\n",
       "      <td>Male</td>\n",
       "      <td>101738</td>\n",
       "    </tr>\n",
       "    <tr>\n",
       "      <th>395</th>\n",
       "      <td>Prof</td>\n",
       "      <td>A</td>\n",
       "      <td>25</td>\n",
       "      <td>15</td>\n",
       "      <td>Male</td>\n",
       "      <td>95329</td>\n",
       "    </tr>\n",
       "    <tr>\n",
       "      <th>396</th>\n",
       "      <td>AsstProf</td>\n",
       "      <td>A</td>\n",
       "      <td>8</td>\n",
       "      <td>4</td>\n",
       "      <td>Male</td>\n",
       "      <td>81035</td>\n",
       "    </tr>\n",
       "  </tbody>\n",
       "</table>\n",
       "<p>397 rows × 6 columns</p>\n",
       "</div>"
      ],
      "text/plain": [
       "         rank discipline  yrs.since.phd  yrs.service   sex  salary\n",
       "0        Prof          B             19           18  Male  139750\n",
       "1        Prof          B             20           16  Male  173200\n",
       "2    AsstProf          B              4            3  Male   79750\n",
       "3        Prof          B             45           39  Male  115000\n",
       "4        Prof          B             40           41  Male  141500\n",
       "..        ...        ...            ...          ...   ...     ...\n",
       "392      Prof          A             33           30  Male  103106\n",
       "393      Prof          A             31           19  Male  150564\n",
       "394      Prof          A             42           25  Male  101738\n",
       "395      Prof          A             25           15  Male   95329\n",
       "396  AsstProf          A              8            4  Male   81035\n",
       "\n",
       "[397 rows x 6 columns]"
      ]
     },
     "execution_count": 42,
     "metadata": {},
     "output_type": "execute_result"
    }
   ],
   "source": [
    "df"
   ]
  },
  {
   "cell_type": "markdown",
   "id": "9716da26",
   "metadata": {},
   "source": [
    "# Checking the distributi on of the continous value of the int type column"
   ]
  },
  {
   "cell_type": "code",
   "execution_count": 43,
   "id": "93ed448c",
   "metadata": {},
   "outputs": [
    {
     "data": {
      "text/plain": [
       "<seaborn.axisgrid.FacetGrid at 0x1b170e7a490>"
      ]
     },
     "execution_count": 43,
     "metadata": {},
     "output_type": "execute_result"
    },
    {
     "data": {
      "image/png": "[encoded data removed]",
      "text/plain": [
       "<Figure size 360x360 with 1 Axes>"
      ]
     },
     "metadata": {
      "needs_background": "light"
     },
     "output_type": "display_data"
    }
   ],
   "source": [
    "df_visulation_continous=df[['yrs.since.phd','salary']].copy()\n",
    "sns.displot(df_visulation_continous['salary'],kde=True)"
   ]
  },
  {
   "cell_type": "code",
   "execution_count": 44,
   "id": "59f1864e",
   "metadata": {},
   "outputs": [
    {
     "data": {
      "text/plain": [
       "<seaborn.axisgrid.FacetGrid at 0x1b170e80040>"
      ]
     },
     "execution_count": 44,
     "metadata": {},
     "output_type": "execute_result"
    },
    {
     "data": {
      "image/png": "[encoded data removed]",
      "text/plain": [
       "<Figure size 360x360 with 1 Axes>"
      ]
     },
     "metadata": {
      "needs_background": "light"
     },
     "output_type": "display_data"
    }
   ],
   "source": [
    "sns.displot(df_visulation_continous['yrs.since.phd'],kde=True)"
   ]
  },
  {
   "cell_type": "markdown",
   "id": "c666e097",
   "metadata": {},
   "source": [
    "# Encoding dataFrame"
   ]
  },
  {
   "cell_type": "code",
   "execution_count": 45,
   "id": "0f49b2e6",
   "metadata": {},
   "outputs": [],
   "source": [
    "from sklearn.preprocessing import OrdinalEncoder\n",
    "enc=OrdinalEncoder()"
   ]
  },
  {
   "cell_type": "code",
   "execution_count": 46,
   "id": "4613d6a2",
   "metadata": {},
   "outputs": [],
   "source": [
    "for i in df.columns:\n",
    "    if df[i].dtypes=='object':\n",
    "        df[i]=enc.fit_transform(df[i].values.reshape(-1,1))"
   ]
  },
  {
   "cell_type": "code",
   "execution_count": 48,
   "id": "808b515d",
   "metadata": {},
   "outputs": [
    {
     "data": {
      "text/html": [
       "<div>\n",
       "<style scoped>\n",
       "    .dataframe tbody tr th:only-of-type {\n",
       "        vertical-align: middle;\n",
       "    }\n",
       "\n",
       "    .dataframe tbody tr th {\n",
       "        vertical-align: top;\n",
       "    }\n",
       "\n",
       "    .dataframe thead th {\n",
       "        text-align: right;\n",
       "    }\n",
       "</style>\n",
       "<table border=\"1\" class=\"dataframe\">\n",
       "  <thead>\n",
       "    <tr style=\"text-align: right;\">\n",
       "      <th></th>\n",
       "      <th>rank</th>\n",
       "      <th>discipline</th>\n",
       "      <th>yrs.since.phd</th>\n",
       "      <th>yrs.service</th>\n",
       "      <th>sex</th>\n",
       "      <th>salary</th>\n",
       "    </tr>\n",
       "  </thead>\n",
       "  <tbody>\n",
       "    <tr>\n",
       "      <th>0</th>\n",
       "      <td>2.0</td>\n",
       "      <td>1.0</td>\n",
       "      <td>19</td>\n",
       "      <td>18</td>\n",
       "      <td>1.0</td>\n",
       "      <td>139750</td>\n",
       "    </tr>\n",
       "    <tr>\n",
       "      <th>1</th>\n",
       "      <td>2.0</td>\n",
       "      <td>1.0</td>\n",
       "      <td>20</td>\n",
       "      <td>16</td>\n",
       "      <td>1.0</td>\n",
       "      <td>173200</td>\n",
       "    </tr>\n",
       "    <tr>\n",
       "      <th>2</th>\n",
       "      <td>1.0</td>\n",
       "      <td>1.0</td>\n",
       "      <td>4</td>\n",
       "      <td>3</td>\n",
       "      <td>1.0</td>\n",
       "      <td>79750</td>\n",
       "    </tr>\n",
       "    <tr>\n",
       "      <th>3</th>\n",
       "      <td>2.0</td>\n",
       "      <td>1.0</td>\n",
       "      <td>45</td>\n",
       "      <td>39</td>\n",
       "      <td>1.0</td>\n",
       "      <td>115000</td>\n",
       "    </tr>\n",
       "    <tr>\n",
       "      <th>4</th>\n",
       "      <td>2.0</td>\n",
       "      <td>1.0</td>\n",
       "      <td>40</td>\n",
       "      <td>41</td>\n",
       "      <td>1.0</td>\n",
       "      <td>141500</td>\n",
       "    </tr>\n",
       "    <tr>\n",
       "      <th>...</th>\n",
       "      <td>...</td>\n",
       "      <td>...</td>\n",
       "      <td>...</td>\n",
       "      <td>...</td>\n",
       "      <td>...</td>\n",
       "      <td>...</td>\n",
       "    </tr>\n",
       "    <tr>\n",
       "      <th>392</th>\n",
       "      <td>2.0</td>\n",
       "      <td>0.0</td>\n",
       "      <td>33</td>\n",
       "      <td>30</td>\n",
       "      <td>1.0</td>\n",
       "      <td>103106</td>\n",
       "    </tr>\n",
       "    <tr>\n",
       "      <th>393</th>\n",
       "      <td>2.0</td>\n",
       "      <td>0.0</td>\n",
       "      <td>31</td>\n",
       "      <td>19</td>\n",
       "      <td>1.0</td>\n",
       "      <td>150564</td>\n",
       "    </tr>\n",
       "    <tr>\n",
       "      <th>394</th>\n",
       "      <td>2.0</td>\n",
       "      <td>0.0</td>\n",
       "      <td>42</td>\n",
       "      <td>25</td>\n",
       "      <td>1.0</td>\n",
       "      <td>101738</td>\n",
       "    </tr>\n",
       "    <tr>\n",
       "      <th>395</th>\n",
       "      <td>2.0</td>\n",
       "      <td>0.0</td>\n",
       "      <td>25</td>\n",
       "      <td>15</td>\n",
       "      <td>1.0</td>\n",
       "      <td>95329</td>\n",
       "    </tr>\n",
       "    <tr>\n",
       "      <th>396</th>\n",
       "      <td>1.0</td>\n",
       "      <td>0.0</td>\n",
       "      <td>8</td>\n",
       "      <td>4</td>\n",
       "      <td>1.0</td>\n",
       "      <td>81035</td>\n",
       "    </tr>\n",
       "  </tbody>\n",
       "</table>\n",
       "<p>397 rows × 6 columns</p>\n",
       "</div>"
      ],
      "text/plain": [
       "     rank  discipline  yrs.since.phd  yrs.service  sex  salary\n",
       "0     2.0         1.0             19           18  1.0  139750\n",
       "1     2.0         1.0             20           16  1.0  173200\n",
       "2     1.0         1.0              4            3  1.0   79750\n",
       "3     2.0         1.0             45           39  1.0  115000\n",
       "4     2.0         1.0             40           41  1.0  141500\n",
       "..    ...         ...            ...          ...  ...     ...\n",
       "392   2.0         0.0             33           30  1.0  103106\n",
       "393   2.0         0.0             31           19  1.0  150564\n",
       "394   2.0         0.0             42           25  1.0  101738\n",
       "395   2.0         0.0             25           15  1.0   95329\n",
       "396   1.0         0.0              8            4  1.0   81035\n",
       "\n",
       "[397 rows x 6 columns]"
      ]
     },
     "execution_count": 48,
     "metadata": {},
     "output_type": "execute_result"
    }
   ],
   "source": [
    "df"
   ]
  },
  {
   "cell_type": "markdown",
   "id": "4359341d",
   "metadata": {},
   "source": [
    "# Describe the dataset"
   ]
  },
  {
   "cell_type": "code",
   "execution_count": 54,
   "id": "b6099a06",
   "metadata": {},
   "outputs": [
    {
     "data": {
      "text/html": [
       "<div>\n",
       "<style scoped>\n",
       "    .dataframe tbody tr th:only-of-type {\n",
       "        vertical-align: middle;\n",
       "    }\n",
       "\n",
       "    .dataframe tbody tr th {\n",
       "        vertical-align: top;\n",
       "    }\n",
       "\n",
       "    .dataframe thead th {\n",
       "        text-align: right;\n",
       "    }\n",
       "</style>\n",
       "<table border=\"1\" class=\"dataframe\">\n",
       "  <thead>\n",
       "    <tr style=\"text-align: right;\">\n",
       "      <th></th>\n",
       "      <th>count</th>\n",
       "      <th>mean</th>\n",
       "      <th>std</th>\n",
       "      <th>min</th>\n",
       "      <th>25%</th>\n",
       "      <th>50%</th>\n",
       "      <th>75%</th>\n",
       "      <th>max</th>\n",
       "    </tr>\n",
       "  </thead>\n",
       "  <tbody>\n",
       "    <tr>\n",
       "      <th>rank</th>\n",
       "      <td>397.0</td>\n",
       "      <td>1.508816</td>\n",
       "      <td>0.757486</td>\n",
       "      <td>0.0</td>\n",
       "      <td>1.0</td>\n",
       "      <td>2.0</td>\n",
       "      <td>2.0</td>\n",
       "      <td>2.0</td>\n",
       "    </tr>\n",
       "    <tr>\n",
       "      <th>discipline</th>\n",
       "      <td>397.0</td>\n",
       "      <td>0.544081</td>\n",
       "      <td>0.498682</td>\n",
       "      <td>0.0</td>\n",
       "      <td>0.0</td>\n",
       "      <td>1.0</td>\n",
       "      <td>1.0</td>\n",
       "      <td>1.0</td>\n",
       "    </tr>\n",
       "    <tr>\n",
       "      <th>yrs.since.phd</th>\n",
       "      <td>397.0</td>\n",
       "      <td>22.314861</td>\n",
       "      <td>12.887003</td>\n",
       "      <td>1.0</td>\n",
       "      <td>12.0</td>\n",
       "      <td>21.0</td>\n",
       "      <td>32.0</td>\n",
       "      <td>56.0</td>\n",
       "    </tr>\n",
       "    <tr>\n",
       "      <th>yrs.service</th>\n",
       "      <td>397.0</td>\n",
       "      <td>17.614610</td>\n",
       "      <td>13.006024</td>\n",
       "      <td>0.0</td>\n",
       "      <td>7.0</td>\n",
       "      <td>16.0</td>\n",
       "      <td>27.0</td>\n",
       "      <td>60.0</td>\n",
       "    </tr>\n",
       "    <tr>\n",
       "      <th>sex</th>\n",
       "      <td>397.0</td>\n",
       "      <td>0.901763</td>\n",
       "      <td>0.298010</td>\n",
       "      <td>0.0</td>\n",
       "      <td>1.0</td>\n",
       "      <td>1.0</td>\n",
       "      <td>1.0</td>\n",
       "      <td>1.0</td>\n",
       "    </tr>\n",
       "    <tr>\n",
       "      <th>salary</th>\n",
       "      <td>397.0</td>\n",
       "      <td>113706.458438</td>\n",
       "      <td>30289.038695</td>\n",
       "      <td>57800.0</td>\n",
       "      <td>91000.0</td>\n",
       "      <td>107300.0</td>\n",
       "      <td>134185.0</td>\n",
       "      <td>231545.0</td>\n",
       "    </tr>\n",
       "  </tbody>\n",
       "</table>\n",
       "</div>"
      ],
      "text/plain": [
       "               count           mean           std      min      25%       50%  \\\n",
       "rank           397.0       1.508816      0.757486      0.0      1.0       2.0   \n",
       "discipline     397.0       0.544081      0.498682      0.0      0.0       1.0   \n",
       "yrs.since.phd  397.0      22.314861     12.887003      1.0     12.0      21.0   \n",
       "yrs.service    397.0      17.614610     13.006024      0.0      7.0      16.0   \n",
       "sex            397.0       0.901763      0.298010      0.0      1.0       1.0   \n",
       "salary         397.0  113706.458438  30289.038695  57800.0  91000.0  107300.0   \n",
       "\n",
       "                    75%       max  \n",
       "rank                2.0       2.0  \n",
       "discipline          1.0       1.0  \n",
       "yrs.since.phd      32.0      56.0  \n",
       "yrs.service        27.0      60.0  \n",
       "sex                 1.0       1.0  \n",
       "salary         134185.0  231545.0  "
      ]
     },
     "execution_count": 54,
     "metadata": {},
     "output_type": "execute_result"
    }
   ],
   "source": [
    "df.describe().transpose()"
   ]
  },
  {
   "cell_type": "code",
   "execution_count": 55,
   "id": "004fe9a2",
   "metadata": {},
   "outputs": [
    {
     "data": {
      "text/plain": [
       "rank             float64\n",
       "discipline       float64\n",
       "yrs.since.phd      int64\n",
       "yrs.service        int64\n",
       "sex              float64\n",
       "salary             int64\n",
       "dtype: object"
      ]
     },
     "execution_count": 55,
     "metadata": {},
     "output_type": "execute_result"
    }
   ],
   "source": [
    "df.dtypes"
   ]
  },
  {
   "cell_type": "code",
   "execution_count": 61,
   "id": "4deb2336",
   "metadata": {},
   "outputs": [
    {
     "data": {
      "text/plain": [
       "<AxesSubplot:>"
      ]
     },
     "execution_count": 61,
     "metadata": {},
     "output_type": "execute_result"
    },
    {
     "data": {
      "image/png": "[encoded data removed]",
      "text/plain": [
       "<Figure size 1584x504 with 2 Axes>"
      ]
     },
     "metadata": {
      "needs_background": "light"
     },
     "output_type": "display_data"
    }
   ],
   "source": [
    "import matplotlib.pyplot as plt\n",
    "plt.figure(figsize=(22,7))\n",
    "sns.heatmap(df.describe().transpose(),annot=True,linewidths=0.1,linecolor='black',fmt='0.2f')"
   ]
  },
  {
   "cell_type": "markdown",
   "id": "58163690",
   "metadata": {},
   "source": [
    "# Correletion of the columns with the target columns"
   ]
  },
  {
   "cell_type": "code",
   "execution_count": 63,
   "id": "5f21864e",
   "metadata": {},
   "outputs": [
    {
     "data": {
      "text/plain": [
       "sex              0.138610\n",
       "discipline       0.156084\n",
       "yrs.service      0.334745\n",
       "yrs.since.phd    0.419231\n",
       "rank             0.522207\n",
       "salary           1.000000\n",
       "Name: salary, dtype: float64"
      ]
     },
     "execution_count": 63,
     "metadata": {},
     "output_type": "execute_result"
    }
   ],
   "source": [
    "df.corr()['salary'].sort_values()"
   ]
  },
  {
   "cell_type": "code",
   "execution_count": 67,
   "id": "1d826195",
   "metadata": {},
   "outputs": [
    {
     "data": {
      "text/plain": [
       "<AxesSubplot:>"
      ]
     },
     "execution_count": 67,
     "metadata": {},
     "output_type": "execute_result"
    },
    {
     "data": {
      "image/png": "[encoded data removed]",
      "text/plain": [
       "<Figure size 1584x504 with 2 Axes>"
      ]
     },
     "metadata": {
      "needs_background": "light"
     },
     "output_type": "display_data"
    }
   ],
   "source": [
    "plt.figure(figsize=(22,7))\n",
    "sns.heatmap(df.corr(),annot=True,linewidths=0.1,linecolor='black',fmt='0.2f')"
   ]
  },
  {
   "cell_type": "code",
   "execution_count": 68,
   "id": "c7c845e4",
   "metadata": {},
   "outputs": [
    {
     "data": {
      "image/png": "[encoded data removed]",
      "text/plain": [
       "<Figure size 1584x504 with 1 Axes>"
      ]
     },
     "metadata": {
      "needs_background": "light"
     },
     "output_type": "display_data"
    }
   ],
   "source": [
    "plt.figure(figsize=(22,7))\n",
    "df.corr()['salary'].sort_values(ascending=False).drop(['salary']).plot(kind='bar',color='c')\n",
    "plt.xlabel('feature',fontsize=14)\n",
    "plt.ylabel('column with target name',fontsize=14)\n",
    "plt.title('correlation',fontsize=18)\n",
    "plt.show()"
   ]
  },
  {
   "cell_type": "code",
   "execution_count": 71,
   "id": "dc31b8be",
   "metadata": {},
   "outputs": [
    {
     "data": {
      "text/plain": [
       "sex             -2.709958\n",
       "rank            -1.151164\n",
       "discipline      -0.177684\n",
       "yrs.since.phd    0.300880\n",
       "yrs.service      0.650569\n",
       "salary           0.714568\n",
       "dtype: float64"
      ]
     },
     "execution_count": 71,
     "metadata": {},
     "output_type": "execute_result"
    }
   ],
   "source": [
    "df.skew().sort_values()"
   ]
  },
  {
   "cell_type": "markdown",
   "id": "fb218bb8",
   "metadata": {},
   "source": [
    "# Outliers Check"
   ]
  },
  {
   "cell_type": "code",
   "execution_count": 72,
   "id": "9def3949",
   "metadata": {},
   "outputs": [
    {
     "data": {
      "text/plain": [
       "rank             float64\n",
       "discipline       float64\n",
       "yrs.since.phd      int64\n",
       "yrs.service        int64\n",
       "sex              float64\n",
       "salary             int64\n",
       "dtype: object"
      ]
     },
     "execution_count": 72,
     "metadata": {},
     "output_type": "execute_result"
    }
   ],
   "source": [
    "df.dtypes"
   ]
  },
  {
   "cell_type": "code",
   "execution_count": 73,
   "id": "d3a4b2a3",
   "metadata": {},
   "outputs": [
    {
     "data": {
      "text/plain": [
       "<AxesSubplot:>"
      ]
     },
     "execution_count": 73,
     "metadata": {},
     "output_type": "execute_result"
    },
    {
     "data": {
      "image/png": "[encoded data removed]",
      "text/plain": [
       "<Figure size 432x288 with 1 Axes>"
      ]
     },
     "metadata": {
      "needs_background": "light"
     },
     "output_type": "display_data"
    }
   ],
   "source": [
    "df['rank'].plot.box()"
   ]
  },
  {
   "cell_type": "code",
   "execution_count": 74,
   "id": "fd9ff0c7",
   "metadata": {},
   "outputs": [
    {
     "data": {
      "text/plain": [
       "<AxesSubplot:>"
      ]
     },
     "execution_count": 74,
     "metadata": {},
     "output_type": "execute_result"
    },
    {
     "data": {
      "image/png": "[encoded data removed]",
      "text/plain": [
       "<Figure size 432x288 with 1 Axes>"
      ]
     },
     "metadata": {
      "needs_background": "light"
     },
     "output_type": "display_data"
    }
   ],
   "source": [
    "df['sex'].plot.box()"
   ]
  },
  {
   "cell_type": "code",
   "execution_count": 75,
   "id": "208d5814",
   "metadata": {},
   "outputs": [
    {
     "data": {
      "text/plain": [
       "<AxesSubplot:>"
      ]
     },
     "execution_count": 75,
     "metadata": {},
     "output_type": "execute_result"
    },
    {
     "data": {
      "image/png": "[encoded data removed]",
      "text/plain": [
       "<Figure size 432x288 with 1 Axes>"
      ]
     },
     "metadata": {
      "needs_background": "light"
     },
     "output_type": "display_data"
    }
   ],
   "source": [
    "df['discipline'].plot.box()"
   ]
  },
  {
   "cell_type": "code",
   "execution_count": 76,
   "id": "0a94a7d5",
   "metadata": {},
   "outputs": [
    {
     "data": {
      "text/plain": [
       "<AxesSubplot:>"
      ]
     },
     "execution_count": 76,
     "metadata": {},
     "output_type": "execute_result"
    },
    {
     "data": {
      "image/png": "[encoded data removed]",
      "text/plain": [
       "<Figure size 432x288 with 1 Axes>"
      ]
     },
     "metadata": {
      "needs_background": "light"
     },
     "output_type": "display_data"
    }
   ],
   "source": [
    "df['yrs.since.phd'].plot.box()"
   ]
  },
  {
   "cell_type": "code",
   "execution_count": 77,
   "id": "ba583dc2",
   "metadata": {},
   "outputs": [
    {
     "data": {
      "text/plain": [
       "<AxesSubplot:>"
      ]
     },
     "execution_count": 77,
     "metadata": {},
     "output_type": "execute_result"
    },
    {
     "data": {
      "image/png": "[encoded data removed]",
      "text/plain": [
       "<Figure size 432x288 with 1 Axes>"
      ]
     },
     "metadata": {
      "needs_background": "light"
     },
     "output_type": "display_data"
    }
   ],
   "source": [
    "df['yrs.service'].plot.box()"
   ]
  },
  {
   "cell_type": "code",
   "execution_count": 78,
   "id": "a086c395",
   "metadata": {},
   "outputs": [
    {
     "data": {
      "text/plain": [
       "<AxesSubplot:>"
      ]
     },
     "execution_count": 78,
     "metadata": {},
     "output_type": "execute_result"
    },
    {
     "data": {
      "image/png": "[encoded data removed]",
      "text/plain": [
       "<Figure size 432x288 with 1 Axes>"
      ]
     },
     "metadata": {
      "needs_background": "light"
     },
     "output_type": "display_data"
    }
   ],
   "source": [
    "df['salary'].plot.box()"
   ]
  },
  {
   "cell_type": "markdown",
   "id": "552d344c",
   "metadata": {},
   "source": [
    "# Considering the outlier removal"
   ]
  },
  {
   "cell_type": "code",
   "execution_count": 79,
   "id": "019ab9c5",
   "metadata": {},
   "outputs": [
    {
     "data": {
      "text/plain": [
       "(397, 6)"
      ]
     },
     "execution_count": 79,
     "metadata": {},
     "output_type": "execute_result"
    }
   ],
   "source": [
    "df.shape"
   ]
  },
  {
   "cell_type": "code",
   "execution_count": 80,
   "id": "8f15fcec",
   "metadata": {},
   "outputs": [
    {
     "data": {
      "text/plain": [
       "(array([  9,  19,  24,  34,  35,  43,  47,  48,  52,  63,  68,  84,  90,\n",
       "        103, 114, 119, 123, 127, 131, 132, 133, 148, 153, 179, 186, 218,\n",
       "        230, 231, 233, 237, 245, 253, 254, 274, 316, 323, 330, 332, 334,\n",
       "        341, 358, 361, 364], dtype=int64),\n",
       " array([4, 4, 4, 4, 4, 5, 4, 4, 4, 4, 4, 4, 4, 4, 4, 4, 4, 4, 3, 4, 4, 4,\n",
       "        4, 4, 4, 4, 4, 4, 4, 4, 4, 4, 4, 4, 4, 4, 3, 4, 4, 4, 4, 4, 5],\n",
       "       dtype=int64))"
      ]
     },
     "execution_count": 80,
     "metadata": {},
     "output_type": "execute_result"
    }
   ],
   "source": [
    "from scipy.stats import zscore\n",
    "import numpy as np\n",
    "z=np.abs(zscore(df))\n",
    "threshold = 3\n",
    "np.where(z>3)"
   ]
  },
  {
   "cell_type": "code",
   "execution_count": 81,
   "id": "e7611157",
   "metadata": {},
   "outputs": [
    {
     "data": {
      "text/plain": [
       "array([1., 0.])"
      ]
     },
     "execution_count": 81,
     "metadata": {},
     "output_type": "execute_result"
    }
   ],
   "source": [
    "df['sex'].unique()"
   ]
  },
  {
   "cell_type": "markdown",
   "id": "6e749624",
   "metadata": {},
   "source": [
    "# Separeting the columns into features and target:"
   ]
  },
  {
   "cell_type": "code",
   "execution_count": 82,
   "id": "91b0aed5",
   "metadata": {},
   "outputs": [],
   "source": [
    "features=df.drop('salary',axis=1)\n",
    "target=df['salary']"
   ]
  },
  {
   "cell_type": "markdown",
   "id": "0a429ab3",
   "metadata": {},
   "source": [
    "# Scalling the data using Min-Max Scaler¶"
   ]
  },
  {
   "cell_type": "code",
   "execution_count": 83,
   "id": "f58c55a5",
   "metadata": {},
   "outputs": [],
   "source": [
    "from sklearn.preprocessing import MinMaxScaler\n",
    "mms=MinMaxScaler\n",
    "from sklearn.linear_model import LinearRegression\n",
    "lr=LinearRegression()\n",
    "from sklearn.metrics import r2_score\n",
    "from sklearn.model_selection import train_test_split\n",
    "import warnings\n",
    "warnings.filterwarnings('ignore')"
   ]
  },
  {
   "cell_type": "code",
   "execution_count": 84,
   "id": "dc27ce40",
   "metadata": {},
   "outputs": [
    {
     "name": "stdout",
     "output_type": "stream",
     "text": [
      "At random state 0,the training accuracy is :-0.36119999548530757\n",
      "At random state 0,the testing accuracy is :-0.40792583149752315\n",
      "\n",
      "\n",
      "At random state 1,the training accuracy is :-0.3604245854198438\n",
      "At random state 1,the testing accuracy is :-0.4163364187662949\n",
      "\n",
      "\n",
      "At random state 2,the training accuracy is :-0.37547390964955596\n",
      "At random state 2,the testing accuracy is :-0.36001895545266915\n",
      "\n",
      "\n",
      "At random state 3,the training accuracy is :-0.3847313825130594\n",
      "At random state 3,the testing accuracy is :-0.329352987501086\n",
      "\n",
      "\n",
      "At random state 4,the training accuracy is :-0.38517450334380454\n",
      "At random state 4,the testing accuracy is :-0.30440081333156155\n",
      "\n",
      "\n",
      "At random state 5,the training accuracy is :-0.3950033630150771\n",
      "At random state 5,the testing accuracy is :-0.2752907752774736\n",
      "\n",
      "\n",
      "At random state 6,the training accuracy is :-0.3650308031752798\n",
      "At random state 6,the testing accuracy is :-0.4018987080607571\n",
      "\n",
      "\n",
      "At random state 7,the training accuracy is :-0.3575963886324032\n",
      "At random state 7,the testing accuracy is :-0.4360314983336847\n",
      "\n",
      "\n",
      "At random state 8,the training accuracy is :-0.37078641617615615\n",
      "At random state 8,the testing accuracy is :-0.3520895860059552\n",
      "\n",
      "\n",
      "At random state 9,the training accuracy is :-0.3689988332195655\n",
      "At random state 9,the testing accuracy is :-0.3880754485440503\n",
      "\n",
      "\n",
      "At random state 10,the training accuracy is :-0.3833769683025209\n",
      "At random state 10,the testing accuracy is :-0.3237669060179079\n",
      "\n",
      "\n",
      "At random state 11,the training accuracy is :-0.3847188415624321\n",
      "At random state 11,the testing accuracy is :-0.28083083929305563\n",
      "\n",
      "\n",
      "At random state 12,the training accuracy is :-0.3767666823112952\n",
      "At random state 12,the testing accuracy is :-0.34397033297856505\n",
      "\n",
      "\n",
      "At random state 13,the training accuracy is :-0.37914531495889037\n",
      "At random state 13,the testing accuracy is :-0.3037213930266667\n",
      "\n",
      "\n",
      "At random state 14,the training accuracy is :-0.41589783697137583\n",
      "At random state 14,the testing accuracy is :-0.15184410537740545\n",
      "\n",
      "\n",
      "At random state 15,the training accuracy is :-0.37127624600584874\n",
      "At random state 15,the testing accuracy is :-0.35351934262062823\n",
      "\n",
      "\n",
      "At random state 16,the training accuracy is :-0.3878621443484205\n",
      "At random state 16,the testing accuracy is :-0.2924139340497035\n",
      "\n",
      "\n",
      "At random state 17,the training accuracy is :-0.3897546182765135\n",
      "At random state 17,the testing accuracy is :-0.26101811962187227\n",
      "\n",
      "\n",
      "At random state 18,the training accuracy is :-0.3650413646278945\n",
      "At random state 18,the testing accuracy is :-0.3698468335200642\n",
      "\n",
      "\n",
      "At random state 19,the training accuracy is :-0.36478587974538956\n",
      "At random state 19,the testing accuracy is :-0.3942926604679201\n",
      "\n",
      "\n",
      "At random state 20,the training accuracy is :-0.3622414400227314\n",
      "At random state 20,the testing accuracy is :-0.40106505357197053\n",
      "\n",
      "\n",
      "At random state 21,the training accuracy is :-0.3935643702731856\n",
      "At random state 21,the testing accuracy is :-0.28484864022169354\n",
      "\n",
      "\n",
      "At random state 22,the training accuracy is :-0.3848789411044249\n",
      "At random state 22,the testing accuracy is :-0.3105065511907833\n",
      "\n",
      "\n",
      "At random state 23,the training accuracy is :-0.388340130912739\n",
      "At random state 23,the testing accuracy is :-0.3090832300219746\n",
      "\n",
      "\n",
      "At random state 24,the training accuracy is :-0.4009695516201147\n",
      "At random state 24,the testing accuracy is :-0.23700622039991392\n",
      "\n",
      "\n",
      "At random state 25,the training accuracy is :-0.3872852164225197\n",
      "At random state 25,the testing accuracy is :-0.2857545713280293\n",
      "\n",
      "\n",
      "At random state 26,the training accuracy is :-0.373492521722562\n",
      "At random state 26,the testing accuracy is :-0.3570465945472763\n",
      "\n",
      "\n",
      "At random state 27,the training accuracy is :-0.3853612529960597\n",
      "At random state 27,the testing accuracy is :-0.3200883336422755\n",
      "\n",
      "\n",
      "At random state 28,the training accuracy is :-0.4053914345039713\n",
      "At random state 28,the testing accuracy is :-0.22969703483016013\n",
      "\n",
      "\n",
      "At random state 29,the training accuracy is :-0.40451288485532433\n",
      "At random state 29,the testing accuracy is :-0.19765027396884804\n",
      "\n",
      "\n",
      "At random state 30,the training accuracy is :-0.36693572181305\n",
      "At random state 30,the testing accuracy is :-0.3783571251635153\n",
      "\n",
      "\n",
      "At random state 31,the training accuracy is :-0.3795313750170515\n",
      "At random state 31,the testing accuracy is :-0.3229513807282972\n",
      "\n",
      "\n",
      "At random state 32,the training accuracy is :-0.3685576596306932\n",
      "At random state 32,the testing accuracy is :-0.3671499580137658\n",
      "\n",
      "\n",
      "At random state 33,the training accuracy is :-0.374633324232825\n",
      "At random state 33,the testing accuracy is :-0.3503249588399542\n",
      "\n",
      "\n",
      "At random state 34,the training accuracy is :-0.3670604216412361\n",
      "At random state 34,the testing accuracy is :-0.3924145850362383\n",
      "\n",
      "\n",
      "At random state 35,the training accuracy is :-0.3849378452508391\n",
      "At random state 35,the testing accuracy is :-0.33147987417573754\n",
      "\n",
      "\n",
      "At random state 36,the training accuracy is :-0.3847552137593607\n",
      "At random state 36,the testing accuracy is :-0.2703900592740791\n",
      "\n",
      "\n",
      "At random state 37,the training accuracy is :-0.34899945766206086\n",
      "At random state 37,the testing accuracy is :-0.4128426546458116\n",
      "\n",
      "\n",
      "At random state 38,the training accuracy is :-0.38650707960273367\n",
      "At random state 38,the testing accuracy is :-0.2833985042820415\n",
      "\n",
      "\n",
      "At random state 39,the training accuracy is :-0.3706020285098687\n",
      "At random state 39,the testing accuracy is :-0.3718833413484989\n",
      "\n",
      "\n",
      "At random state 40,the training accuracy is :-0.3642294289210505\n",
      "At random state 40,the testing accuracy is :-0.3925435827595458\n",
      "\n",
      "\n",
      "At random state 41,the training accuracy is :-0.3609173288430392\n",
      "At random state 41,the testing accuracy is :-0.4018359148946382\n",
      "\n",
      "\n",
      "At random state 42,the training accuracy is :-0.4200558658334025\n",
      "At random state 42,the testing accuracy is :-0.10796880791419616\n",
      "\n",
      "\n",
      "At random state 43,the training accuracy is :-0.4041459448446313\n",
      "At random state 43,the testing accuracy is :-0.25754093508042974\n",
      "\n",
      "\n",
      "At random state 44,the training accuracy is :-0.3725463631852006\n",
      "At random state 44,the testing accuracy is :-0.3671356850817833\n",
      "\n",
      "\n",
      "At random state 45,the training accuracy is :-0.4137230485402983\n",
      "At random state 45,the testing accuracy is :-0.22445225846745354\n",
      "\n",
      "\n",
      "At random state 46,the training accuracy is :-0.3437256240883124\n",
      "At random state 46,the testing accuracy is :-0.3896606094506979\n",
      "\n",
      "\n",
      "At random state 47,the training accuracy is :-0.37188114106913295\n",
      "At random state 47,the testing accuracy is :-0.35395872265988104\n",
      "\n",
      "\n",
      "At random state 48,the training accuracy is :-0.36429183378263275\n",
      "At random state 48,the testing accuracy is :-0.3979596000732686\n",
      "\n",
      "\n",
      "At random state 49,the training accuracy is :-0.377539855714624\n",
      "At random state 49,the testing accuracy is :-0.33197433115663066\n",
      "\n",
      "\n",
      "At random state 50,the training accuracy is :-0.37893923298505605\n",
      "At random state 50,the testing accuracy is :-0.34563177771023357\n",
      "\n",
      "\n",
      "At random state 51,the training accuracy is :-0.3748812535527184\n",
      "At random state 51,the testing accuracy is :-0.34622301247708853\n",
      "\n",
      "\n",
      "At random state 52,the training accuracy is :-0.3690443454685478\n",
      "At random state 52,the testing accuracy is :-0.3682296312128147\n",
      "\n",
      "\n",
      "At random state 53,the training accuracy is :-0.3646780402149977\n",
      "At random state 53,the testing accuracy is :-0.3864862432119227\n",
      "\n",
      "\n",
      "At random state 54,the training accuracy is :-0.3812097696299068\n",
      "At random state 54,the testing accuracy is :-0.3230795326762549\n",
      "\n",
      "\n",
      "At random state 55,the training accuracy is :-0.3804240550840484\n",
      "At random state 55,the testing accuracy is :-0.3272919939417781\n",
      "\n",
      "\n",
      "At random state 56,the training accuracy is :-0.38888132640425854\n",
      "At random state 56,the testing accuracy is :-0.2619212862528705\n",
      "\n",
      "\n",
      "At random state 57,the training accuracy is :-0.36282545034634306\n",
      "At random state 57,the testing accuracy is :-0.4099319211959537\n",
      "\n",
      "\n",
      "At random state 58,the training accuracy is :-0.3904276399883323\n",
      "At random state 58,the testing accuracy is :-0.28087570332280665\n",
      "\n",
      "\n",
      "At random state 59,the training accuracy is :-0.36918999968594834\n",
      "At random state 59,the testing accuracy is :-0.36721675911308405\n",
      "\n",
      "\n",
      "At random state 60,the training accuracy is :-0.36276157486159943\n",
      "At random state 60,the testing accuracy is :-0.4342158637805855\n",
      "\n",
      "\n",
      "At random state 61,the training accuracy is :-0.3596569629577455\n",
      "At random state 61,the testing accuracy is :-0.42430912062832304\n",
      "\n",
      "\n",
      "At random state 62,the training accuracy is :-0.36218820814339425\n",
      "At random state 62,the testing accuracy is :-0.3402679535175044\n",
      "\n",
      "\n",
      "At random state 63,the training accuracy is :-0.36020153914715214\n",
      "At random state 63,the testing accuracy is :-0.40925944052697116\n",
      "\n",
      "\n",
      "At random state 64,the training accuracy is :-0.34487518402780026\n",
      "At random state 64,the testing accuracy is :-0.45685137910944595\n",
      "\n",
      "\n",
      "At random state 65,the training accuracy is :-0.3966493366743805\n",
      "At random state 65,the testing accuracy is :-0.27103911844105455\n",
      "\n",
      "\n",
      "At random state 66,the training accuracy is :-0.36941312653397496\n",
      "At random state 66,the testing accuracy is :-0.37171519604211156\n",
      "\n",
      "\n",
      "At random state 67,the training accuracy is :-0.3577974392746197\n",
      "At random state 67,the testing accuracy is :-0.4089321958973776\n",
      "\n",
      "\n",
      "At random state 68,the training accuracy is :-0.4112434481572017\n",
      "At random state 68,the testing accuracy is :-0.1876030590518647\n",
      "\n",
      "\n",
      "At random state 69,the training accuracy is :-0.3583537425297256\n",
      "At random state 69,the testing accuracy is :-0.4055461597734453\n",
      "\n",
      "\n",
      "At random state 70,the training accuracy is :-0.40782071088368554\n",
      "At random state 70,the testing accuracy is :-0.12457420628140259\n",
      "\n",
      "\n",
      "At random state 71,the training accuracy is :-0.3798566422299211\n",
      "At random state 71,the testing accuracy is :-0.3310077740650834\n",
      "\n",
      "\n",
      "At random state 72,the training accuracy is :-0.37306545398657154\n",
      "At random state 72,the testing accuracy is :-0.33282576705225164\n",
      "\n",
      "\n",
      "At random state 73,the training accuracy is :-0.3684736133822437\n",
      "At random state 73,the testing accuracy is :-0.3756517084867398\n",
      "\n",
      "\n",
      "At random state 74,the training accuracy is :-0.36328541761317845\n",
      "At random state 74,the testing accuracy is :-0.414540570310433\n",
      "\n",
      "\n",
      "At random state 75,the training accuracy is :-0.3699093187667536\n",
      "At random state 75,the testing accuracy is :-0.37665450836382297\n",
      "\n",
      "\n",
      "At random state 76,the training accuracy is :-0.3893765947869846\n",
      "At random state 76,the testing accuracy is :-0.2446996775975493\n",
      "\n",
      "\n",
      "At random state 77,the training accuracy is :-0.36208736257404006\n",
      "At random state 77,the testing accuracy is :-0.38689241011567244\n",
      "\n",
      "\n",
      "At random state 78,the training accuracy is :-0.3936404592790971\n",
      "At random state 78,the testing accuracy is :-0.2786653093015008\n",
      "\n",
      "\n",
      "At random state 79,the training accuracy is :-0.3400734467804928\n",
      "At random state 79,the testing accuracy is :-0.5084908819694649\n",
      "\n",
      "\n",
      "At random state 80,the training accuracy is :-0.34891747740210666\n",
      "At random state 80,the testing accuracy is :-0.5086207408821506\n",
      "\n",
      "\n",
      "At random state 81,the training accuracy is :-0.35513373474139565\n",
      "At random state 81,the testing accuracy is :-0.4149346606972969\n",
      "\n",
      "\n",
      "At random state 82,the training accuracy is :-0.37417707170637116\n",
      "At random state 82,the testing accuracy is :-0.3509979602373102\n",
      "\n",
      "\n",
      "At random state 83,the training accuracy is :-0.3777269477125591\n",
      "At random state 83,the testing accuracy is :-0.323672073767867\n",
      "\n",
      "\n",
      "At random state 84,the training accuracy is :-0.38401378181768153\n",
      "At random state 84,the testing accuracy is :-0.3127841540168669\n",
      "\n",
      "\n",
      "At random state 85,the training accuracy is :-0.376142718876315\n",
      "At random state 85,the testing accuracy is :-0.35006127408867393\n",
      "\n",
      "\n",
      "At random state 86,the training accuracy is :-0.3767878645972712\n",
      "At random state 86,the testing accuracy is :-0.3444389459787979\n",
      "\n",
      "\n",
      "At random state 87,the training accuracy is :-0.386606834116077\n",
      "At random state 87,the testing accuracy is :-0.2295416451299277\n",
      "\n",
      "\n",
      "At random state 88,the training accuracy is :-0.3555900942301573\n",
      "At random state 88,the testing accuracy is :-0.4462737924208696\n",
      "\n",
      "\n",
      "At random state 89,the training accuracy is :-0.3776188229055102\n",
      "At random state 89,the testing accuracy is :-0.3382111271087993\n",
      "\n",
      "\n",
      "At random state 90,the training accuracy is :-0.35598740233084814\n",
      "At random state 90,the testing accuracy is :-0.4188943675785999\n",
      "\n",
      "\n",
      "At random state 91,the training accuracy is :-0.37189951588468795\n",
      "At random state 91,the testing accuracy is :-0.3601565810059806\n",
      "\n",
      "\n",
      "At random state 92,the training accuracy is :-0.37459606418072844\n",
      "At random state 92,the testing accuracy is :-0.3541542254552803\n",
      "\n",
      "\n",
      "At random state 93,the training accuracy is :-0.4045365985584488\n",
      "At random state 93,the testing accuracy is :-0.22737572896847547\n",
      "\n",
      "\n",
      "At random state 94,the training accuracy is :-0.39372739145675384\n",
      "At random state 94,the testing accuracy is :-0.2720604116480444\n",
      "\n",
      "\n",
      "At random state 95,the training accuracy is :-0.3862133774021912\n",
      "At random state 95,the testing accuracy is :-0.3010575834925825\n",
      "\n",
      "\n",
      "At random state 96,the training accuracy is :-0.3544193864212418\n",
      "At random state 96,the testing accuracy is :-0.4253245406131324\n",
      "\n",
      "\n",
      "At random state 97,the training accuracy is :-0.36415109406161483\n",
      "At random state 97,the testing accuracy is :-0.41014984649060593\n",
      "\n",
      "\n",
      "At random state 98,the training accuracy is :-0.34983395760007263\n",
      "At random state 98,the testing accuracy is :-0.4322690928833409\n",
      "\n",
      "\n",
      "At random state 99,the training accuracy is :-0.3640872612019751\n",
      "At random state 99,the testing accuracy is :-0.41102180904046104\n",
      "\n",
      "\n"
     ]
    }
   ],
   "source": [
    "for i in range(0,100):\n",
    "    features_train,features_test,target_train,target_test=train_test_split(features,target,test_size=0.2,random_state=i)\n",
    "    lr.fit(features_train,target_train)\n",
    "    pred_train=lr.predict(features_train)\n",
    "    pred_test = lr.predict(features_test)\n",
    "    print(f\"At random state {i},the training accuracy is :-{r2_score(target_train,pred_train)}\")\n",
    "    print(f\"At random state {i},the testing accuracy is :-{r2_score(target_test,pred_test)}\")\n",
    "    print(\"\\n\")"
   ]
  },
  {
   "cell_type": "code",
   "execution_count": 85,
   "id": "5680f3e6",
   "metadata": {},
   "outputs": [],
   "source": [
    "features_train,features_test,target_train,target_test=train_test_split(features,target,test_size=0.2,random_state=80)"
   ]
  },
  {
   "cell_type": "code",
   "execution_count": 86,
   "id": "0fa50900",
   "metadata": {},
   "outputs": [
    {
     "data": {
      "text/html": [
       "<style>#sk-container-id-1 {color: black;background-color: white;}#sk-container-id-1 pre{padding: 0;}#sk-container-id-1 div.sk-toggleable {background-color: white;}#sk-container-id-1 label.sk-toggleable__label {cursor: pointer;display: block;width: 100%;margin-bottom: 0;padding: 0.3em;box-sizing: border-box;text-align: center;}#sk-container-id-1 label.sk-toggleable__label-arrow:before {content: \"▸\";float: left;margin-right: 0.25em;color: #696969;}#sk-container-id-1 label.sk-toggleable__label-arrow:hover:before {color: black;}#sk-container-id-1 div.sk-estimator:hover label.sk-toggleable__label-arrow:before {color: black;}#sk-container-id-1 div.sk-toggleable__content {max-height: 0;max-width: 0;overflow: hidden;text-align: left;background-color: #f0f8ff;}#sk-container-id-1 div.sk-toggleable__content pre {margin: 0.2em;color: black;border-radius: 0.25em;background-color: #f0f8ff;}#sk-container-id-1 input.sk-toggleable__control:checked~div.sk-toggleable__content {max-height: 200px;max-width: 100%;overflow: auto;}#sk-container-id-1 input.sk-toggleable__control:checked~label.sk-toggleable__label-arrow:before {content: \"▾\";}#sk-container-id-1 div.sk-estimator input.sk-toggleable__control:checked~label.sk-toggleable__label {background-color: #d4ebff;}#sk-container-id-1 div.sk-label input.sk-toggleable__control:checked~label.sk-toggleable__label {background-color: #d4ebff;}#sk-container-id-1 input.sk-hidden--visually {border: 0;clip: rect(1px 1px 1px 1px);clip: rect(1px, 1px, 1px, 1px);height: 1px;margin: -1px;overflow: hidden;padding: 0;position: absolute;width: 1px;}#sk-container-id-1 div.sk-estimator {font-family: monospace;background-color: #f0f8ff;border: 1px dotted black;border-radius: 0.25em;box-sizing: border-box;margin-bottom: 0.5em;}#sk-container-id-1 div.sk-estimator:hover {background-color: #d4ebff;}#sk-container-id-1 div.sk-parallel-item::after {content: \"\";width: 100%;border-bottom: 1px solid gray;flex-grow: 1;}#sk-container-id-1 div.sk-label:hover label.sk-toggleable__label {background-color: #d4ebff;}#sk-container-id-1 div.sk-serial::before {content: \"\";position: absolute;border-left: 1px solid gray;box-sizing: border-box;top: 0;bottom: 0;left: 50%;z-index: 0;}#sk-container-id-1 div.sk-serial {display: flex;flex-direction: column;align-items: center;background-color: white;padding-right: 0.2em;padding-left: 0.2em;position: relative;}#sk-container-id-1 div.sk-item {position: relative;z-index: 1;}#sk-container-id-1 div.sk-parallel {display: flex;align-items: stretch;justify-content: center;background-color: white;position: relative;}#sk-container-id-1 div.sk-item::before, #sk-container-id-1 div.sk-parallel-item::before {content: \"\";position: absolute;border-left: 1px solid gray;box-sizing: border-box;top: 0;bottom: 0;left: 50%;z-index: -1;}#sk-container-id-1 div.sk-parallel-item {display: flex;flex-direction: column;z-index: 1;position: relative;background-color: white;}#sk-container-id-1 div.sk-parallel-item:first-child::after {align-self: flex-end;width: 50%;}#sk-container-id-1 div.sk-parallel-item:last-child::after {align-self: flex-start;width: 50%;}#sk-container-id-1 div.sk-parallel-item:only-child::after {width: 0;}#sk-container-id-1 div.sk-dashed-wrapped {border: 1px dashed gray;margin: 0 0.4em 0.5em 0.4em;box-sizing: border-box;padding-bottom: 0.4em;background-color: white;}#sk-container-id-1 div.sk-label label {font-family: monospace;font-weight: bold;display: inline-block;line-height: 1.2em;}#sk-container-id-1 div.sk-label-container {text-align: center;}#sk-container-id-1 div.sk-container {/* jupyter's `normalize.less` sets `[hidden] { display: none; }` but bootstrap.min.css set `[hidden] { display: none !important; }` so we also need the `!important` here to be able to override the default hidden behavior on the sphinx rendered scikit-learn.org. See: https://github.com/scikit-learn/scikit-learn/issues/21755 */display: inline-block !important;position: relative;}#sk-container-id-1 div.sk-text-repr-fallback {display: none;}</style><div id=\"sk-container-id-1\" class=\"sk-top-container\"><div class=\"sk-text-repr-fallback\"><pre>LinearRegression()</pre><b>In a Jupyter environment, please rerun this cell to show the HTML representation or trust the notebook. <br />On GitHub, the HTML representation is unable to render, please try loading this page with nbviewer.org.</b></div><div class=\"sk-container\" hidden><div class=\"sk-item\"><div class=\"sk-estimator sk-toggleable\"><input class=\"sk-toggleable__control sk-hidden--visually\" id=\"sk-estimator-id-1\" type=\"checkbox\" checked><label for=\"sk-estimator-id-1\" class=\"sk-toggleable__label sk-toggleable__label-arrow\">LinearRegression</label><div class=\"sk-toggleable__content\"><pre>LinearRegression()</pre></div></div></div></div></div>"
      ],
      "text/plain": [
       "LinearRegression()"
      ]
     },
     "execution_count": 86,
     "metadata": {},
     "output_type": "execute_result"
    }
   ],
   "source": [
    "lr.fit(features_train,target_train)"
   ]
  },
  {
   "cell_type": "code",
   "execution_count": 87,
   "id": "e3d0d47c",
   "metadata": {},
   "outputs": [],
   "source": [
    "pred_test=lr.predict(features_test)"
   ]
  },
  {
   "cell_type": "code",
   "execution_count": 88,
   "id": "25cf4650",
   "metadata": {},
   "outputs": [
    {
     "name": "stdout",
     "output_type": "stream",
     "text": [
      "0.5086207408821506\n"
     ]
    }
   ],
   "source": [
    "print(r2_score(target_test,pred_test))"
   ]
  },
  {
   "cell_type": "markdown",
   "id": "6cf41531",
   "metadata": {},
   "source": [
    "# cross validation of the model"
   ]
  },
  {
   "cell_type": "code",
   "execution_count": 89,
   "id": "b442b3ff",
   "metadata": {},
   "outputs": [
    {
     "name": "stdout",
     "output_type": "stream",
     "text": [
      "At cross fold2 the cv score is 0.3270801167406513and accuracy score for training is -0.42216386411302675 and accuracy for testing is 0.5086207408821506\n",
      "\n",
      "\n",
      "At cross fold3 the cv score is 0.32033286730598814and accuracy score for training is -0.42216386411302675 and accuracy for testing is 0.5086207408821506\n",
      "\n",
      "\n",
      "At cross fold4 the cv score is 0.3218196693768357and accuracy score for training is -0.42216386411302675 and accuracy for testing is 0.5086207408821506\n",
      "\n",
      "\n",
      "At cross fold5 the cv score is 0.29569928663871764and accuracy score for training is -0.42216386411302675 and accuracy for testing is 0.5086207408821506\n",
      "\n",
      "\n",
      "At cross fold6 the cv score is 0.33096341839295573and accuracy score for training is -0.42216386411302675 and accuracy for testing is 0.5086207408821506\n",
      "\n",
      "\n",
      "At cross fold7 the cv score is 0.3257704419996536and accuracy score for training is -0.42216386411302675 and accuracy for testing is 0.5086207408821506\n",
      "\n",
      "\n",
      "At cross fold8 the cv score is 0.33100605845135816and accuracy score for training is -0.42216386411302675 and accuracy for testing is 0.5086207408821506\n",
      "\n",
      "\n",
      "At cross fold9 the cv score is 0.3043911239889372and accuracy score for training is -0.42216386411302675 and accuracy for testing is 0.5086207408821506\n",
      "\n",
      "\n"
     ]
    }
   ],
   "source": [
    "train_accuracy = r2_score(target_train,pred_train)\n",
    "test_accuracy = r2_score(target_test,pred_test)\n",
    "\n",
    "from sklearn.model_selection import cross_val_score\n",
    "for j in range(2,10):\n",
    "    cv_score = cross_val_score(lr,features,target,cv=j)\n",
    "    cv_mean = cv_score.mean()\n",
    "    print(f\"At cross fold{j} the cv score is {cv_mean}and accuracy score for training is {train_accuracy} and accuracy for testing is {test_accuracy}\")\n",
    "    \n",
    "    print(\"\\n\")"
   ]
  },
  {
   "cell_type": "code",
   "execution_count": 90,
   "id": "db7b4d86",
   "metadata": {},
   "outputs": [
    {
     "data": {
      "image/png": "[encoded data removed]",
      "text/plain": [
       "<Figure size 576x432 with 1 Axes>"
      ]
     },
     "metadata": {
      "needs_background": "light"
     },
     "output_type": "display_data"
    }
   ],
   "source": [
    "import matplotlib.pyplot as plt\n",
    "plt.figure(figsize=(8,6))\n",
    "plt.scatter(x=target_test,y=pred_test,color='r')\n",
    "plt.plot(target_test,target_test,color='b')\n",
    "plt.xlabel('Actual charges',fontsize=14)\n",
    "plt.ylabel('Predicated charges',fontsize=14)\n",
    "plt.title('Linear Regression',fontsize=18)\n",
    "plt.savefig('lr.png')\n",
    "plt.show()"
   ]
  },
  {
   "cell_type": "markdown",
   "id": "9d54efd7",
   "metadata": {},
   "source": [
    "# Regularization"
   ]
  },
  {
   "cell_type": "code",
   "execution_count": 91,
   "id": "6da8bd21",
   "metadata": {},
   "outputs": [],
   "source": [
    "from sklearn.model_selection import GridSearchCV\n",
    "from sklearn.model_selection import cross_val_score\n",
    "import warnings\n",
    "warnings.filterwarnings('ignore')"
   ]
  },
  {
   "cell_type": "code",
   "execution_count": 92,
   "id": "894e9103",
   "metadata": {},
   "outputs": [
    {
     "name": "stdout",
     "output_type": "stream",
     "text": [
      "{'alpha': 10, 'random_state': 0}\n"
     ]
    }
   ],
   "source": [
    "from sklearn.linear_model import Lasso\n",
    "\n",
    "parameters = {'alpha':[.0001,.001,.01,.1,1,10],\n",
    "              'random_state':list(range(0,10))}\n",
    "ls=Lasso()\n",
    "clf=GridSearchCV(ls,parameters)\n",
    "clf.fit(features_train,target_train)\n",
    "print(clf.best_params_)"
   ]
  },
  {
   "cell_type": "code",
   "execution_count": 93,
   "id": "2be784d2",
   "metadata": {},
   "outputs": [
    {
     "data": {
      "text/plain": [
       "34.89174595002764"
      ]
     },
     "execution_count": 93,
     "metadata": {},
     "output_type": "execute_result"
    }
   ],
   "source": [
    "# final model training\n",
    "las = Lasso(alpha=1,random_state=0)\n",
    "ls.fit(features_train,target_train)\n",
    "ls_score_training=ls.score(features_train,target_train)\n",
    "pred_ls=ls.predict(features_test)\n",
    "ls_score_training*100"
   ]
  },
  {
   "cell_type": "code",
   "execution_count": 94,
   "id": "bc639728",
   "metadata": {},
   "outputs": [],
   "source": [
    "pred_ls=ls.predict(features_test)"
   ]
  },
  {
   "cell_type": "code",
   "execution_count": 95,
   "id": "3ec3cd23",
   "metadata": {},
   "outputs": [],
   "source": [
    "lss=r2_score(target_test,pred_test)"
   ]
  },
  {
   "cell_type": "code",
   "execution_count": 96,
   "id": "347bbd63",
   "metadata": {},
   "outputs": [
    {
     "data": {
      "text/plain": [
       "50.86207408821506"
      ]
     },
     "execution_count": 96,
     "metadata": {},
     "output_type": "execute_result"
    }
   ],
   "source": [
    "lss*100"
   ]
  },
  {
   "cell_type": "code",
   "execution_count": 97,
   "id": "cb2e395e",
   "metadata": {},
   "outputs": [
    {
     "data": {
      "text/plain": [
       "33.096312716799694"
      ]
     },
     "execution_count": 97,
     "metadata": {},
     "output_type": "execute_result"
    }
   ],
   "source": [
    "cv_score=cross_val_score(ls,features,target,cv=6)\n",
    "cv_mean=cv_score.mean()\n",
    "cv_mean*100"
   ]
  },
  {
   "cell_type": "markdown",
   "id": "aee21ca0",
   "metadata": {},
   "source": [
    "# Ensemble technique"
   ]
  },
  {
   "cell_type": "code",
   "execution_count": 98,
   "id": "78c0474f",
   "metadata": {},
   "outputs": [
    {
     "name": "stdout",
     "output_type": "stream",
     "text": [
      "{'criterion': 'mae', 'max_features': 'log2'}\n"
     ]
    }
   ],
   "source": [
    "from sklearn.model_selection import GridSearchCV\n",
    "from sklearn.ensemble import RandomForestRegressor\n",
    "parameters = {'criterion':['mse','mae'],\n",
    "             'max_features':['auto','sqrt','log2']}\n",
    "rf=RandomForestRegressor()\n",
    "clf=GridSearchCV(rf,parameters)\n",
    "clf.fit(features_train,target_train)\n",
    "\n",
    "print(clf.best_params_)"
   ]
  },
  {
   "cell_type": "code",
   "execution_count": 100,
   "id": "03675175",
   "metadata": {},
   "outputs": [
    {
     "name": "stdout",
     "output_type": "stream",
     "text": [
      "R2_score 37.32223702919482\n",
      "cross_val_score: 27.589551931524824\n"
     ]
    }
   ],
   "source": [
    "rf=RandomForestRegressor(criterion='mae',max_features='log2')\n",
    "rf.fit(features_train,target_train)\n",
    "pred_decision=rf.predict(features_test)\n",
    "rfs=r2_score(target_test,pred_decision)\n",
    "print('R2_score',rfs*100)\n",
    "rfscore=cross_val_score(rf,features,target,cv=5)\n",
    "rfc=rfscore.mean()\n",
    "print('cross_val_score:',rfc*100)\n"
   ]
  },
  {
   "cell_type": "code",
   "execution_count": 101,
   "id": "942d2907",
   "metadata": {},
   "outputs": [],
   "source": [
    "import pickle\n",
    "filename='salary.pkl'\n",
    "pickle.dump(rf,open(filename,'wb'))"
   ]
  },
  {
   "cell_type": "markdown",
   "id": "310e9244",
   "metadata": {},
   "source": [
    "# conclusion:-"
   ]
  },
  {
   "cell_type": "code",
   "execution_count": 103,
   "id": "51bce604",
   "metadata": {},
   "outputs": [
    {
     "name": "stdout",
     "output_type": "stream",
     "text": [
      "37.32223702919482\n"
     ]
    }
   ],
   "source": [
    "loaded_model=pickle.load(open('salary.pkl','rb'))\n",
    "result=loaded_model.score(features_test,target_test)\n",
    "print(result*100)"
   ]
  },
  {
   "cell_type": "code",
   "execution_count": 108,
   "id": "929feacd",
   "metadata": {},
   "outputs": [],
   "source": [
    "conclusion=pd.DataFrame([loaded_model.predict(features_test)[:],pred_decision[:]],index=['predicted','orginal'])"
   ]
  },
  {
   "cell_type": "code",
   "execution_count": 110,
   "id": "d629782d",
   "metadata": {},
   "outputs": [
    {
     "data": {
      "text/html": [
       "<div>\n",
       "<style scoped>\n",
       "    .dataframe tbody tr th:only-of-type {\n",
       "        vertical-align: middle;\n",
       "    }\n",
       "\n",
       "    .dataframe tbody tr th {\n",
       "        vertical-align: top;\n",
       "    }\n",
       "\n",
       "    .dataframe thead th {\n",
       "        text-align: right;\n",
       "    }\n",
       "</style>\n",
       "<table border=\"1\" class=\"dataframe\">\n",
       "  <thead>\n",
       "    <tr style=\"text-align: right;\">\n",
       "      <th></th>\n",
       "      <th>predicted</th>\n",
       "      <th>orginal</th>\n",
       "    </tr>\n",
       "  </thead>\n",
       "  <tbody>\n",
       "    <tr>\n",
       "      <th>0</th>\n",
       "      <td>153893.795</td>\n",
       "      <td>153893.795</td>\n",
       "    </tr>\n",
       "    <tr>\n",
       "      <th>1</th>\n",
       "      <td>123877.000</td>\n",
       "      <td>123877.000</td>\n",
       "    </tr>\n",
       "    <tr>\n",
       "      <th>2</th>\n",
       "      <td>113069.880</td>\n",
       "      <td>113069.880</td>\n",
       "    </tr>\n",
       "    <tr>\n",
       "      <th>3</th>\n",
       "      <td>103547.895</td>\n",
       "      <td>103547.895</td>\n",
       "    </tr>\n",
       "    <tr>\n",
       "      <th>4</th>\n",
       "      <td>126737.865</td>\n",
       "      <td>126737.865</td>\n",
       "    </tr>\n",
       "    <tr>\n",
       "      <th>...</th>\n",
       "      <td>...</td>\n",
       "      <td>...</td>\n",
       "    </tr>\n",
       "    <tr>\n",
       "      <th>75</th>\n",
       "      <td>177367.875</td>\n",
       "      <td>177367.875</td>\n",
       "    </tr>\n",
       "    <tr>\n",
       "      <th>76</th>\n",
       "      <td>145702.070</td>\n",
       "      <td>145702.070</td>\n",
       "    </tr>\n",
       "    <tr>\n",
       "      <th>77</th>\n",
       "      <td>84747.030</td>\n",
       "      <td>84747.030</td>\n",
       "    </tr>\n",
       "    <tr>\n",
       "      <th>78</th>\n",
       "      <td>96904.655</td>\n",
       "      <td>96904.655</td>\n",
       "    </tr>\n",
       "    <tr>\n",
       "      <th>79</th>\n",
       "      <td>106657.545</td>\n",
       "      <td>106657.545</td>\n",
       "    </tr>\n",
       "  </tbody>\n",
       "</table>\n",
       "<p>80 rows × 2 columns</p>\n",
       "</div>"
      ],
      "text/plain": [
       "     predicted     orginal\n",
       "0   153893.795  153893.795\n",
       "1   123877.000  123877.000\n",
       "2   113069.880  113069.880\n",
       "3   103547.895  103547.895\n",
       "4   126737.865  126737.865\n",
       "..         ...         ...\n",
       "75  177367.875  177367.875\n",
       "76  145702.070  145702.070\n",
       "77   84747.030   84747.030\n",
       "78   96904.655   96904.655\n",
       "79  106657.545  106657.545\n",
       "\n",
       "[80 rows x 2 columns]"
      ]
     },
     "execution_count": 110,
     "metadata": {},
     "output_type": "execute_result"
    }
   ],
   "source": [
    "conclusion.transpose()"
   ]
  },
  {
   "cell_type": "code",
   "execution_count": null,
   "id": "5e5f9da6",
   "metadata": {},
   "outputs": [],
   "source": []
  }
 ],
 "metadata": {
  "kernelspec": {
   "display_name": "Python 3 (ipykernel)",
   "language": "python",
   "name": "python3"
  },
  "language_info": {
   "codemirror_mode": {
    "name": "ipython",
    "version": 3
   },
   "file_extension": ".py",
   "mimetype": "text/x-python",
   "name": "python",
   "nbconvert_exporter": "python",
   "pygments_lexer": "ipython3",
   "version": "3.9.7"
  }
 },
 "nbformat": 4,
 "nbformat_minor": 5
}
